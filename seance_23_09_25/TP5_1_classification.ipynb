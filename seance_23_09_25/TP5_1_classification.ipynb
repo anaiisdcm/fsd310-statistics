{
 "cells": [
  {
   "cell_type": "markdown",
   "metadata": {},
   "source": [
    "# TP 5.1 : Classification avec R"
   ]
  },
  {
   "cell_type": "markdown",
   "metadata": {},
   "source": [
    "## 1. Données `body` allégées\n",
    "\n",
    "Nous considérons une nouvelles fois les données `body`."
   ]
  },
  {
   "cell_type": "code",
   "execution_count": 1,
   "metadata": {
    "vscode": {
     "languageId": "r"
    }
   },
   "outputs": [],
   "source": [
    "data_body <- read.table(\"data/body.csv\", header=TRUE, sep=\";\", dec=\",\", row.names=1)"
   ]
  },
  {
   "cell_type": "markdown",
   "metadata": {},
   "source": [
    "### 1.1 Classification ascendante hiérarchique\n",
    "\n",
    "Grâce à la fonction `dist()`, il est possible de calculer les distances euclidiennes entre toutes les paires d'individus."
   ]
  },
  {
   "cell_type": "code",
   "execution_count": 12,
   "metadata": {
    "vscode": {
     "languageId": "r"
    }
   },
   "outputs": [],
   "source": [
    "distances <- dist(data_body)"
   ]
  },
  {
   "cell_type": "markdown",
   "metadata": {},
   "source": [
    "<div class=\"alert alert-block alert-success\">\n",
    "    Quelle est la longueur de l'objet créé ? À quoi correspond cette valeur ?\n",
    "</div>"
   ]
  },
  {
   "cell_type": "code",
   "execution_count": 11,
   "metadata": {
    "vscode": {
     "languageId": "r"
    }
   },
   "outputs": [
    {
     "data": {
      "text/plain": [
       "           H1        H2        H3        H4        H5        H6        H7\n",
       "H2  13.081284                                                            \n",
       "H3  29.805369 21.201415                                                  \n",
       "H4  17.437890 12.787494 16.011871                                        \n",
       "H5  22.054931 14.172509 10.549882  7.281483                              \n",
       "H6  23.558650 12.433423 14.392706 17.158963 14.553007                    \n",
       "H7  35.283707 23.766784 16.825576 25.948796 20.404901 14.274102          \n",
       "H8  25.938774 16.164777 13.429073 17.935997 14.460290  7.846655 10.966312\n",
       "H9   6.946222 15.576585 31.098071 20.232400 24.856186 23.637682 35.604354\n",
       "H10 24.184499 16.347171 12.605951 18.016381 13.576818 10.887608 15.454773\n",
       "F1   4.991994 14.456141 32.769193 20.613103 24.525089 25.802907 36.801630\n",
       "F2  20.415190 19.043109 37.360675 27.217641 28.561162 29.815265 37.513997\n",
       "F3  10.075217 13.759724 30.296369 16.655630 21.034971 25.562864 36.473415\n",
       "F4  14.471351 19.136875 39.607575 27.811868 31.880088 29.333087 39.843946\n",
       "F5  25.447790 20.872230 38.035115 30.474415 30.639027 29.362221 36.371830\n",
       "F6   7.574959 10.756393 24.949549 14.328294 17.285832 19.706090 29.526937\n",
       "F7  17.624415 29.056497 47.155275 33.263193 38.810566 40.061328 51.488057\n",
       "F8  31.389489 43.586466 60.505702 46.407112 52.176815 54.570047 66.185648\n",
       "F9   1.974842 11.218734 28.518415 16.432285 20.798077 21.798853 33.481338\n",
       "F10 16.624981 15.952116 35.816337 23.793907 27.002407 27.464158 37.422587\n",
       "           H8        H9       H10        F1        F2        F3        F4\n",
       "H2                                                                       \n",
       "H3                                                                       \n",
       "H4                                                                       \n",
       "H5                                                                       \n",
       "H6                                                                       \n",
       "H7                                                                       \n",
       "H8                                                                       \n",
       "H9  25.469786                                                            \n",
       "H10  9.632757 24.993199                                                  \n",
       "F1  28.266234 10.277646 26.171167                                        \n",
       "F2  33.092295 25.626354 31.471733 16.646321                              \n",
       "F3  28.897578 16.545090 27.034423  9.694844 15.151568                    \n",
       "F4  31.851845 14.243946 32.897872 12.479583 19.202604 18.106076          \n",
       "F5  33.698220 29.998333 32.270730 22.254213  8.064118 20.390684 23.401923\n",
       "F6  20.338633 10.375452 18.334394  9.504736 21.273458 13.374977 18.142216\n",
       "F7  42.208530 18.171131 41.326142 16.122035 26.937335 21.209196 15.435025\n",
       "F8  56.738876 32.056669 54.908742 29.907190 38.985638 33.782984 30.133702\n",
       "F9  24.225193  7.019259 22.795833  5.484524 19.784337 10.071246 14.113114\n",
       "F10 31.461564 21.038061 31.542035 14.247456  9.560858 11.310172 14.258682\n",
       "           F5        F6        F7        F8        F9\n",
       "H2                                                   \n",
       "H3                                                   \n",
       "H4                                                   \n",
       "H5                                                   \n",
       "H6                                                   \n",
       "H7                                                   \n",
       "H8                                                   \n",
       "H9                                                   \n",
       "H10                                                  \n",
       "F1                                                   \n",
       "F2                                                   \n",
       "F3                                                   \n",
       "F4                                                   \n",
       "F5                                                   \n",
       "F6  26.029406                                        \n",
       "F7  33.094561 23.582197                              \n",
       "F8  45.175104 37.307104 15.233516                    \n",
       "F9  24.509386  6.572671 18.985784 33.062063          \n",
       "F10 13.283072 19.552238 22.862415 36.062584 15.940201"
      ]
     },
     "metadata": {},
     "output_type": "display_data"
    }
   ],
   "source": [
    "distances"
   ]
  },
  {
   "cell_type": "code",
   "execution_count": 20,
   "metadata": {
    "vscode": {
     "languageId": "r"
    }
   },
   "outputs": [
    {
     "name": "stdout",
     "output_type": "stream",
     "text": [
      "length(distances) =  190"
     ]
    },
    {
     "data": {
      "text/html": [
       "190"
      ],
      "text/latex": [
       "190"
      ],
      "text/markdown": [
       "190"
      ],
      "text/plain": [
       "[1] 190"
      ]
     },
     "metadata": {},
     "output_type": "display_data"
    }
   ],
   "source": [
    "cat(\"length(distances) = \",length(distances))\n",
    "(nrow(data_body) * (nrow(data_body)-1))/2"
   ]
  },
  {
   "cell_type": "markdown",
   "metadata": {},
   "source": [
    "La fonction `hclust()` permet de mettre en oeuvre une classification ascendante hiérarchique à partir de l'objet `distances` et le dendrogramme correspondant s'affiche avec `plot()`."
   ]
  },
  {
   "cell_type": "code",
   "execution_count": 21,
   "metadata": {
    "vscode": {
     "languageId": "r"
    }
   },
   "outputs": [
    {
     "data": {
      "image/png": "[encoded data removed]",
      "text/plain": [
       "Plot with title “Cluster Dendrogram”"
      ]
     },
     "metadata": {
      "image/png": {
       "height": 420,
       "width": 420
      }
     },
     "output_type": "display_data"
    }
   ],
   "source": [
    "cah_body <- hclust(distances)\n",
    "plot(cah_body)"
   ]
  },
  {
   "cell_type": "markdown",
   "metadata": {},
   "source": [
    "<div class=\"alert alert-block alert-success\">\n",
    "    Utilisez la cellule suivante pour répondre aux questions :\n",
    "    <ol>\n",
    "        <li>Quel critère d'agglomération est utilisé par défaut par la fonction <code>hclust()</code> ?</li>\n",
    "        <li>Mettre en oeuvre une classification ascendante hiérarchique en utilisant le critère de Ward comme critère d'agglomération.</li>\n",
    "        <li>Représenter le dendrogramme associé aux résultats de cette classification.</li>\n",
    "        <li>En utilisant <code>cah_body&dollar;height</code>, proposer un nombre de groupes raisonnable pour répartir les individus ?</li>\n",
    "        <li>Utiliser la fonction <code>cutree()</code> avec le nombre de groupes souhaités pour associer chaque individu à un groupe. Les groupes peuvent être visualisés sur le dendrogramme en utilisant la fonction <code>rect.hclust()</code> et l'option <code>border=</code> pour les couleurs.<br>\n",
    "            <center><img src=\"img/cah_body.png\"></center></li>\n",
    "        <li>Calculer une ACP des données <code>body</code> et représenter les individus dans le plan principal en donnant une couleur identique aux individus d'un même groupe de votre classification.<br>\n",
    "            <center><img src=\"img/cah_acp_body.png\"></center></li>\n",
    "    </ol>\n",
    "</div>"
   ]
  },
  {
   "cell_type": "code",
   "execution_count": null,
   "metadata": {
    "vscode": {
     "languageId": "r"
    }
   },
   "outputs": [],
   "source": [
    "# À FAIRE"
   ]
  },
  {
   "cell_type": "markdown",
   "metadata": {},
   "source": [
    "### 1.2 K-means\n",
    "\n",
    "Pour réaliser un algorithme K-means, il est possible d'utiliser la fonction `kmeans()` avec l'option `centers=` pour définir un nombre entier de groupes."
   ]
  },
  {
   "cell_type": "code",
   "execution_count": null,
   "metadata": {
    "vscode": {
     "languageId": "r"
    }
   },
   "outputs": [],
   "source": [
    "# Exemple de K-means à 4 groupes\n",
    "kmeans_body_1 <- kmeans(data_body, centers=4)\n",
    "cat(\"Groupes des individus pour le premier K-means :\\n\")\n",
    "print(kmeans_body_1$cluster)\n",
    "\n",
    "# Un autre exemple de K-means à 4 groupes\n",
    "kmeans_body_2 <- kmeans(data_body, centers=4)\n",
    "cat(\"Groupes des individus pour le second K-means :\\n\")\n",
    "print(kmeans_body_2$cluster)"
   ]
  },
  {
   "cell_type": "markdown",
   "metadata": {},
   "source": [
    "<div class=\"alert alert-block alert-success\">\n",
    "    Expliquer pourquoi les résultats obtenus sont différents.\n",
    "</div>"
   ]
  },
  {
   "cell_type": "markdown",
   "metadata": {},
   "source": [
    "Il est possible de construire la table de contingence qui croise les effectifs des 4 groupes obtenus dans les 2 cas avec la fonction `table()`."
   ]
  },
  {
   "cell_type": "code",
   "execution_count": null,
   "metadata": {
    "vscode": {
     "languageId": "r"
    }
   },
   "outputs": [],
   "source": [
    "table(kmeans_body_1$cluster, kmeans_body_2$cluster, dnn=c(\"kmeans1\", \"kmeans2\"))"
   ]
  },
  {
   "cell_type": "markdown",
   "metadata": {},
   "source": [
    "<div class=\"alert alert-block alert-success\">\n",
    "    Croiser également l'un des résultats obtenus avec les groupes issus de la classification ascendante hiérarchique.\n",
    "</div>"
   ]
  },
  {
   "cell_type": "markdown",
   "metadata": {},
   "source": [
    "Afin de pallier l'aspect aléatoire de l'algorithme K-means et de stabiliser le résultat d'une classification ascendante hiérarchique, nous pouvons imposer les centres initiaux du K-means comme étant ceux donnés par les groupes de la CAH."
   ]
  },
  {
   "cell_type": "markdown",
   "metadata": {},
   "source": [
    "<div class=\"alert alert-block alert-success\">\n",
    "    Utilisez la cellule suivante pour répondre aux questions :\n",
    "    <ol>\n",
    "        <li>Calculer les barycentres des classes issues de la classification hiérarchique ascendante et stocker ces résultats en ligne dans une matrice à 5 colonnes.</li>\n",
    "        <li>Passer cette matrice à l'option <code>centers=</code> de la fonction <code>kmeans()</code>. Est-ce que le résultat est encore aléatoire ?</li>\n",
    "        <li>Comparer les résultats de cette classification avec ceux de la classification ascendante hiérarchique sous forme d'une table puis sous forme graphique dans le plan principal.</li>\n",
    "    </ol>\n",
    "</div>"
   ]
  },
  {
   "cell_type": "code",
   "execution_count": null,
   "metadata": {
    "vscode": {
     "languageId": "r"
    }
   },
   "outputs": [],
   "source": [
    "# À FAIRE"
   ]
  },
  {
   "cell_type": "markdown",
   "metadata": {},
   "source": [
    "## 2. Données `body` complètes\n",
    "\n",
    "Les données sont consituées de 24 variables quantitatives (diamètres, circonférence, âge, taille, poids, ...) mesurées chez 507 individus hommes et femmes (le sexe étant précisé dans la variable `gender`)."
   ]
  },
  {
   "cell_type": "code",
   "execution_count": null,
   "metadata": {
    "vscode": {
     "languageId": "r"
    }
   },
   "outputs": [],
   "source": [
    "data_body_full <- read.table(\"data/data-body.csv\", sep=\";\", dec=\",\", header=TRUE)"
   ]
  },
  {
   "cell_type": "markdown",
   "metadata": {},
   "source": [
    "<div class=\"alert alert-block alert-success\">\n",
    "    Utilisez la cellule suivante pour répondre aux questions :\n",
    "    <ol>\n",
    "        <li>Procéder à une classification ascendante hiérarchique (distance euclidienne et critère de Ward) sur les individus et représenter le dendrogramme associé.</li>\n",
    "        <li>En combien de groupes classeriez-vous les individus ?</li>\n",
    "        <li>Comparer les groupes de la classification à la variable <code>gender</code> à l'aide d'une table.</li>\n",
    "        <li>Proposer plusieurs façons de caractériser chacun des groupes de la classification (individus moyens par groupe, ACP, ...).</li>\n",
    "    </ol>\n",
    "</div>"
   ]
  },
  {
   "cell_type": "code",
   "execution_count": null,
   "metadata": {
    "vscode": {
     "languageId": "r"
    }
   },
   "outputs": [],
   "source": [
    "# À FAIRE"
   ]
  }
 ],
 "metadata": {
  "kernelspec": {
   "display_name": "R",
   "language": "R",
   "name": "ir"
  },
  "language_info": {
   "codemirror_mode": "r",
   "file_extension": ".r",
   "mimetype": "text/x-r-source",
   "name": "R",
   "pygments_lexer": "r",
   "version": "4.5.1"
  }
 },
 "nbformat": 4,
 "nbformat_minor": 4
}
