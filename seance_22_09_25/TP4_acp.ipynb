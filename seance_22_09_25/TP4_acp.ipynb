{
 "cells": [
  {
   "cell_type": "markdown",
   "metadata": {},
   "source": [
    "# TP 4 : Analyse en composantes principales avec R"
   ]
  },
  {
   "cell_type": "markdown",
   "metadata": {},
   "source": [
    "## Un esprit sain dans un corps sain\n",
    "\n",
    "Ce sujet vous donne les moyens de conserver un esprit sain dans un corps sain. Dans un premier temps, il s'agira de prendre les mesures de ce corps à maintenir en forme (données `body.csv`). Pour cela, il est bien connu qu'une activité physique régulière est bénéfique à de nombreux de points de vue (données `athle.csv`) à condition de l'accompagner par une alimentation saine et équilibrée et ce, dès le petit déjeuner (données `cereal.txt`). Pour compléter le tout, un peu de réflexion mathématique mettra le cerveau au niveau de votre corps aguerri et bien alimenté !"
   ]
  },
  {
   "cell_type": "markdown",
   "metadata": {},
   "source": [
    "## 1. Données `body`\n",
    "\n",
    "Les données `body` sont composées d'un relevé de 5 variables morphologiques (tour d'épaule, tour de poitrine, tour de taille, masse et taille) chez 20 individus. La première étape consiste à importer ce jeu de données dans R avec la fonction `read.table()` (nous pourrions aussi utiliser `read.csv()` ou `read.csv2()`)."
   ]
  },
  {
   "cell_type": "code",
   "execution_count": 1,
   "metadata": {
    "vscode": {
     "languageId": "r"
    }
   },
   "outputs": [],
   "source": [
    "data_body <- read.table(\"data/body.csv\", # Nom du fichier à importer\n",
    "                        header=TRUE,     # Utiliser la première ligne du fichier pour les noms des colonnes\n",
    "                        sep=\";\",         # Séparateur de champs\n",
    "                        dec=\",\",         # Séparateur décimal\n",
    "                        row.names=1)     # Utiliser la première colonne pour les noms des lignes"
   ]
  },
  {
   "cell_type": "markdown",
   "metadata": {},
   "source": [
    "Pour calculer une ACP sur les données, nous pouvons utiliser la fonction `prcomp()`. Nous stockons le résultat retourné dans un objet appelé `acp_body` de notre espace de travail."
   ]
  },
  {
   "cell_type": "code",
   "execution_count": 2,
   "metadata": {
    "vscode": {
     "languageId": "r"
    }
   },
   "outputs": [
    {
     "name": "stdout",
     "output_type": "stream",
     "text": [
      "Classe de l'objet : prcomp \n",
      "Type de l'objet : list \n",
      "Test du type 'list' : TRUE \n"
     ]
    }
   ],
   "source": [
    "acp_body <- prcomp(data_body)\n",
    "\n",
    "# Quelques vérifications\n",
    "cat(\"Classe de l'objet :\", class(acp_body), \"\\n\")\n",
    "cat(\"Type de l'objet :\", mode(acp_body), \"\\n\")\n",
    "cat(\"Test du type 'list' :\", is.list(acp_body), \"\\n\")"
   ]
  },
  {
   "cell_type": "markdown",
   "metadata": {},
   "source": [
    "Les composantes de l'objet `acp_body` sont visibles grâce à la fonction `names()`."
   ]
  },
  {
   "cell_type": "code",
   "execution_count": 3,
   "metadata": {
    "vscode": {
     "languageId": "r"
    }
   },
   "outputs": [
    {
     "data": {
      "text/html": [
       "<style>\n",
       ".list-inline {list-style: none; margin:0; padding: 0}\n",
       ".list-inline>li {display: inline-block}\n",
       ".list-inline>li:not(:last-child)::after {content: \"\\00b7\"; padding: 0 .5ex}\n",
       "</style>\n",
       "<ol class=list-inline><li>'sdev'</li><li>'rotation'</li><li>'center'</li><li>'scale'</li><li>'x'</li></ol>\n"
      ],
      "text/latex": [
       "\\begin{enumerate*}\n",
       "\\item 'sdev'\n",
       "\\item 'rotation'\n",
       "\\item 'center'\n",
       "\\item 'scale'\n",
       "\\item 'x'\n",
       "\\end{enumerate*}\n"
      ],
      "text/markdown": [
       "1. 'sdev'\n",
       "2. 'rotation'\n",
       "3. 'center'\n",
       "4. 'scale'\n",
       "5. 'x'\n",
       "\n",
       "\n"
      ],
      "text/plain": [
       "[1] \"sdev\"     \"rotation\" \"center\"   \"scale\"    \"x\"       "
      ]
     },
     "metadata": {},
     "output_type": "display_data"
    }
   ],
   "source": [
    "names(acp_body)"
   ]
  },
  {
   "cell_type": "markdown",
   "metadata": {},
   "source": [
    "Pour accéder à un de ces éléments, il faut utiliser l'opérateur `$`."
   ]
  },
  {
   "cell_type": "code",
   "execution_count": 4,
   "metadata": {
    "vscode": {
     "languageId": "r"
    }
   },
   "outputs": [
    {
     "data": {
      "text/html": [
       "<style>\n",
       ".list-inline {list-style: none; margin:0; padding: 0}\n",
       ".list-inline>li {display: inline-block}\n",
       ".list-inline>li:not(:last-child)::after {content: \"\\00b7\"; padding: 0 .5ex}\n",
       "</style>\n",
       "<ol class=list-inline><li>15.9892411656776</li><li>7.7577952903907</li><li>4.84604014734928</li><li>2.93393765515643</li><li>2.00273489559167</li></ol>\n"
      ],
      "text/latex": [
       "\\begin{enumerate*}\n",
       "\\item 15.9892411656776\n",
       "\\item 7.7577952903907\n",
       "\\item 4.84604014734928\n",
       "\\item 2.93393765515643\n",
       "\\item 2.00273489559167\n",
       "\\end{enumerate*}\n"
      ],
      "text/markdown": [
       "1. 15.9892411656776\n",
       "2. 7.7577952903907\n",
       "3. 4.84604014734928\n",
       "4. 2.93393765515643\n",
       "5. 2.00273489559167\n",
       "\n",
       "\n"
      ],
      "text/plain": [
       "[1] 15.989241  7.757795  4.846040  2.933938  2.002735"
      ]
     },
     "metadata": {},
     "output_type": "display_data"
    }
   ],
   "source": [
    "acp_body$sdev"
   ]
  },
  {
   "cell_type": "markdown",
   "metadata": {},
   "source": [
    "Une description détaillée des éléments contenue dans un objet de la classe `prcomp` est fournie dans l'aide de la fonction `prcomp()`."
   ]
  },
  {
   "cell_type": "code",
   "execution_count": 5,
   "metadata": {
    "vscode": {
     "languageId": "r"
    }
   },
   "outputs": [
    {
     "name": "stdout",
     "output_type": "stream",
     "text": [
      "prcomp                  package:stats                  R Documentation\n",
      "\n",
      "_\bP_\br_\bi_\bn_\bc_\bi_\bp_\ba_\bl _\bC_\bo_\bm_\bp_\bo_\bn_\be_\bn_\bt_\bs _\bA_\bn_\ba_\bl_\by_\bs_\bi_\bs\n",
      "\n",
      "_\bD_\be_\bs_\bc_\br_\bi_\bp_\bt_\bi_\bo_\bn:\n",
      "\n",
      "     Performs a principal components analysis on the given data matrix\n",
      "     and returns the results as an object of class ‘prcomp’.\n",
      "\n",
      "_\bU_\bs_\ba_\bg_\be:\n",
      "\n",
      "     prcomp(x, ...)\n",
      "     \n",
      "     ## S3 method for class 'formula'\n",
      "     prcomp(formula, data = NULL, subset, na.action, ...)\n",
      "     \n",
      "     ## Default S3 method:\n",
      "     prcomp(x, retx = TRUE, center = TRUE, scale. = FALSE,\n",
      "            tol = NULL, rank. = NULL, ...)\n",
      "     \n",
      "     ## S3 method for class 'prcomp'\n",
      "     predict(object, newdata, ...)\n",
      "     \n",
      "_\bA_\br_\bg_\bu_\bm_\be_\bn_\bt_\bs:\n",
      "\n",
      " formula: a formula with no response variable, referring only to\n",
      "          numeric variables.\n",
      "\n",
      "    data: an optional data frame (or similar: see ‘model.frame’)\n",
      "          containing the variables in the formula ‘formula’.  By\n",
      "          default the variables are taken from ‘environment(formula)’.\n",
      "\n",
      "  subset: an optional vector used to select rows (observations) of the\n",
      "          data matrix ‘x’.\n",
      "\n",
      "na.action: a function which indicates what should happen when the data\n",
      "          contain ‘NA’s.  The default is set by the ‘na.action’ setting\n",
      "          of ‘options’, and is ‘na.fail’ if that is unset. The\n",
      "          ‘factory-fresh’ default is ‘na.omit’.\n",
      "\n",
      "     ...: arguments passed to or from other methods.  If ‘x’ is a\n",
      "          formula one might specify ‘scale.’ or ‘tol’.\n",
      "\n",
      "       x: a numeric or complex matrix (or data frame) which provides\n",
      "          the data for the principal components analysis.\n",
      "\n",
      "    retx: a logical value indicating whether the rotated variables\n",
      "          should be returned.\n",
      "\n",
      "  center: a logical value indicating whether the variables should be\n",
      "          shifted to be zero centered. Alternately, a vector of length\n",
      "          equal the number of columns of ‘x’ can be supplied.  The\n",
      "          value is passed to ‘scale’.\n",
      "\n",
      "  scale.: a logical value indicating whether the variables should be\n",
      "          scaled to have unit variance before the analysis takes place.\n",
      "          The default is ‘FALSE’ for consistency with S, but in general\n",
      "          scaling is advisable.  Alternatively, a vector of length\n",
      "          equal the number of columns of ‘x’ can be supplied.  The\n",
      "          value is passed to ‘scale’.\n",
      "\n",
      "     tol: a value indicating the magnitude below which components\n",
      "          should be omitted. (Components are omitted if their standard\n",
      "          deviations are less than or equal to ‘tol’ times the standard\n",
      "          deviation of the first component.)  With the default null\n",
      "          setting, no components are omitted (unless ‘rank.’ is\n",
      "          specified less than ‘min(dim(x))’.).  Other settings for\n",
      "          ‘tol’ could be ‘tol = 0’ or ‘tol =\n",
      "          sqrt(.Machine$double.eps)’, which would omit essentially\n",
      "          constant components.\n",
      "\n",
      "   rank.: optionally, a number specifying the maximal rank, i.e.,\n",
      "          maximal number of principal components to be used.  Can be\n",
      "          set as alternative or in addition to ‘tol’, useful notably\n",
      "          when the desired rank is considerably smaller than the\n",
      "          dimensions of the matrix.\n",
      "\n",
      "  object: object of class inheriting from ‘\"prcomp\"’\n",
      "\n",
      " newdata: An optional data frame or matrix in which to look for\n",
      "          variables with which to predict.  If omitted, the scores are\n",
      "          used.  If the original fit used a formula or a data frame or\n",
      "          a matrix with column names, ‘newdata’ must contain columns\n",
      "          with the same names. Otherwise it must contain the same\n",
      "          number of columns, to be used in the same order.\n",
      "\n",
      "_\bD_\be_\bt_\ba_\bi_\bl_\bs:\n",
      "\n",
      "     The calculation is done by a singular value decomposition of the\n",
      "     (centered and possibly scaled) data matrix, not by using ‘eigen’\n",
      "     on the covariance matrix.  This is generally the preferred method\n",
      "     for numerical accuracy.  The ‘print’ method for these objects\n",
      "     prints the results in a nice format and the ‘plot’ method produces\n",
      "     a scree plot.\n",
      "\n",
      "     Unlike ‘princomp’, variances are computed with the usual divisor N\n",
      "     - 1.\n",
      "\n",
      "     Note that ‘scale = TRUE’ cannot be used if there are zero or\n",
      "     constant (for ‘center = TRUE’) variables.\n",
      "\n",
      "_\bV_\ba_\bl_\bu_\be:\n",
      "\n",
      "     ‘prcomp’ returns a list with class ‘\"prcomp\"’ containing the\n",
      "     following components:\n",
      "\n",
      "    sdev: the standard deviations of the principal components (i.e.,\n",
      "          the square roots of the eigenvalues of the\n",
      "          covariance/correlation matrix, though the calculation is\n",
      "          actually done with the singular values of the data matrix).\n",
      "\n",
      "rotation: the matrix of variable loadings (i.e., a matrix whose columns\n",
      "          contain the eigenvectors).  The function ‘princomp’ returns\n",
      "          this in the element ‘loadings’.\n",
      "\n",
      "       x: if ‘retx’ is true the value of the rotated data (the centred\n",
      "          (and scaled if requested) data multiplied by the ‘rotation’\n",
      "          matrix) is returned.  Hence, ‘cov(x)’ is the diagonal matrix\n",
      "          ‘diag(sdev^2)’.  For the formula method, ‘napredict()’ is\n",
      "          applied to handle the treatment of values omitted by the\n",
      "          ‘na.action’.\n",
      "\n",
      "center, scale: the centering and scaling used, or ‘FALSE’.\n",
      "\n",
      "_\bN_\bo_\bt_\be:\n",
      "\n",
      "     The signs of the columns of the rotation matrix are arbitrary, and\n",
      "     so may differ between different programs for PCA, and even between\n",
      "     different builds of R.\n",
      "\n",
      "_\bR_\be_\bf_\be_\br_\be_\bn_\bc_\be_\bs:\n",
      "\n",
      "     Becker, R. A., Chambers, J. M. and Wilks, A. R. (1988) _The New S\n",
      "     Language_.  Wadsworth & Brooks/Cole.\n",
      "\n",
      "     Mardia, K. V., J. T. Kent, and J. M. Bibby (1979) _Multivariate\n",
      "     Analysis_, London: Academic Press.\n",
      "\n",
      "     Venables, W. N. and B. D. Ripley (2002) _Modern Applied Statistics\n",
      "     with S_, Springer-Verlag.\n",
      "\n",
      "_\bS_\be_\be _\bA_\bl_\bs_\bo:\n",
      "\n",
      "     ‘biplot.prcomp’, ‘screeplot’, ‘princomp’, ‘cor’, ‘cov’, ‘svd’,\n",
      "     ‘eigen’.\n",
      "\n",
      "_\bE_\bx_\ba_\bm_\bp_\bl_\be_\bs:\n",
      "\n",
      "     C <- chol(S <- toeplitz(.9 ^ (0:31))) # Cov.matrix and its root\n",
      "     all.equal(S, crossprod(C))\n",
      "     set.seed(17)\n",
      "     X <- matrix(rnorm(32000), 1000, 32)\n",
      "     Z <- X %*% C  ## ==>  cov(Z) ~=  C'C = S\n",
      "     all.equal(cov(Z), S, tolerance = 0.08)\n",
      "     pZ <- prcomp(Z, tol = 0.1)\n",
      "     summary(pZ) # only ~14 PCs (out of 32)\n",
      "     ## or choose only 3 PCs more directly:\n",
      "     pz3 <- prcomp(Z, rank. = 3)\n",
      "     summary(pz3) # same numbers as the first 3 above\n",
      "     stopifnot(ncol(pZ$rotation) == 14, ncol(pz3$rotation) == 3,\n",
      "               all.equal(pz3$sdev, pZ$sdev, tolerance = 1e-15)) # exactly equal typically\n",
      "     \n",
      "     ## signs are random\n",
      "     require(graphics)\n",
      "     ## the variances of the variables in the\n",
      "     ## USArrests data vary by orders of magnitude, so scaling is appropriate\n",
      "     prcomp(USArrests)  # inappropriate\n",
      "     prcomp(USArrests, scale. = TRUE)\n",
      "     prcomp(~ Murder + Assault + Rape, data = USArrests, scale. = TRUE)\n",
      "     plot(prcomp(USArrests))\n",
      "     summary(prcomp(USArrests, scale. = TRUE))\n",
      "     biplot(prcomp(USArrests, scale. = TRUE))\n",
      "     "
     ]
    }
   ],
   "source": [
    "help(prcomp)"
   ]
  },
  {
   "cell_type": "markdown",
   "metadata": {},
   "source": [
    "<div class=\"alert alert-block alert-success\">\n",
    "    Utilisez la cellule suivante pour répondre aux questions :\n",
    "    <ol>\n",
    "        <li>Que renvoie la fonction <code>summary()</code> appliquée à l'objet <code>acp_body</code> ?</li>\n",
    "        <li>Utilisez la fonction <code>plot()</code> avec l'objet <code>acp_body</code> pour représenter l'éboulis des valeurs propres. Combien de dimensions semble-t-il raisonnable de retenir pour les représentations graphiques ?</li>\n",
    "        <li>À l'aide de la fonction <code>biplot</code>, représenter simultanément les individus et les variables sur le premier plan principal (PC1-PC2). Commenter.</li>\n",
    "        <li>Représenter seulement les individus dans le premier plan principal (voir l'attribut <code>x</code> de l'objet <code>acp_body</code>) avec un codage en 2 couleurs dépendant d'un facteur <code>sexe</code> (les 10 premiers individus étant des hommes, les 10 suivants des femmes) :<br>\n",
    "            <center><img src=\"img/body_plan_principal.png\"></center></li>\n",
    "    </ol>\n",
    "</div>"
   ]
  },
  {
   "cell_type": "code",
   "execution_count": 6,
   "metadata": {
    "vscode": {
     "languageId": "r"
    }
   },
   "outputs": [
    {
     "data": {
      "text/plain": [
       "Importance of components:\n",
       "                           PC1    PC2     PC3     PC4    PC5\n",
       "Standard deviation     15.9892 7.7578 4.84604 2.93394 2.0027\n",
       "Proportion of Variance  0.7264 0.1710 0.06673 0.02446 0.0114\n",
       "Cumulative Proportion   0.7264 0.8974 0.96414 0.98860 1.0000"
      ]
     },
     "metadata": {},
     "output_type": "display_data"
    }
   ],
   "source": [
    "# QUESTION 1.1\n",
    "summary(acp_body)"
   ]
  },
  {
   "cell_type": "code",
   "execution_count": 18,
   "metadata": {
    "vscode": {
     "languageId": "r"
    }
   },
   "outputs": [
    {
     "data": {
      "text/html": [
       "<table class=\"dataframe\">\n",
       "<caption>A matrix: 5 × 5 of type dbl</caption>\n",
       "<thead>\n",
       "\t<tr><th></th><th scope=col>PC1</th><th scope=col>PC2</th><th scope=col>PC3</th><th scope=col>PC4</th><th scope=col>PC5</th></tr>\n",
       "</thead>\n",
       "<tbody>\n",
       "\t<tr><th scope=row>T.epaule</th><td>0.4510211</td><td>-0.1607983</td><td> 0.7795273</td><td>-0.1832817</td><td> 0.35981775</td></tr>\n",
       "\t<tr><th scope=row>T.poitrine</th><td>0.3227778</td><td> 0.2513743</td><td> 0.2624192</td><td> 0.7213856</td><td>-0.49331972</td></tr>\n",
       "\t<tr><th scope=row>T.taille</th><td>0.3361956</td><td> 0.5318767</td><td>-0.3338707</td><td> 0.2373719</td><td> 0.66050328</td></tr>\n",
       "\t<tr><th scope=row>Masse</th><td>0.5351247</td><td> 0.3625794</td><td>-0.1745548</td><td>-0.6008788</td><td>-0.43663838</td></tr>\n",
       "\t<tr><th scope=row>Taille</th><td>0.5413026</td><td>-0.7046973</td><td>-0.4260684</td><td> 0.1691444</td><td> 0.01578585</td></tr>\n",
       "</tbody>\n",
       "</table>\n"
      ],
      "text/latex": [
       "A matrix: 5 × 5 of type dbl\n",
       "\\begin{tabular}{r|lllll}\n",
       "  & PC1 & PC2 & PC3 & PC4 & PC5\\\\\n",
       "\\hline\n",
       "\tT.epaule & 0.4510211 & -0.1607983 &  0.7795273 & -0.1832817 &  0.35981775\\\\\n",
       "\tT.poitrine & 0.3227778 &  0.2513743 &  0.2624192 &  0.7213856 & -0.49331972\\\\\n",
       "\tT.taille & 0.3361956 &  0.5318767 & -0.3338707 &  0.2373719 &  0.66050328\\\\\n",
       "\tMasse & 0.5351247 &  0.3625794 & -0.1745548 & -0.6008788 & -0.43663838\\\\\n",
       "\tTaille & 0.5413026 & -0.7046973 & -0.4260684 &  0.1691444 &  0.01578585\\\\\n",
       "\\end{tabular}\n"
      ],
      "text/markdown": [
       "\n",
       "A matrix: 5 × 5 of type dbl\n",
       "\n",
       "| <!--/--> | PC1 | PC2 | PC3 | PC4 | PC5 |\n",
       "|---|---|---|---|---|---|\n",
       "| T.epaule | 0.4510211 | -0.1607983 |  0.7795273 | -0.1832817 |  0.35981775 |\n",
       "| T.poitrine | 0.3227778 |  0.2513743 |  0.2624192 |  0.7213856 | -0.49331972 |\n",
       "| T.taille | 0.3361956 |  0.5318767 | -0.3338707 |  0.2373719 |  0.66050328 |\n",
       "| Masse | 0.5351247 |  0.3625794 | -0.1745548 | -0.6008788 | -0.43663838 |\n",
       "| Taille | 0.5413026 | -0.7046973 | -0.4260684 |  0.1691444 |  0.01578585 |\n",
       "\n"
      ],
      "text/plain": [
       "           PC1       PC2        PC3        PC4        PC5        \n",
       "T.epaule   0.4510211 -0.1607983  0.7795273 -0.1832817  0.35981775\n",
       "T.poitrine 0.3227778  0.2513743  0.2624192  0.7213856 -0.49331972\n",
       "T.taille   0.3361956  0.5318767 -0.3338707  0.2373719  0.66050328\n",
       "Masse      0.5351247  0.3625794 -0.1745548 -0.6008788 -0.43663838\n",
       "Taille     0.5413026 -0.7046973 -0.4260684  0.1691444  0.01578585"
      ]
     },
     "metadata": {},
     "output_type": "display_data"
    }
   ],
   "source": [
    "acp_body$rotation"
   ]
  },
  {
   "cell_type": "code",
   "execution_count": 20,
   "metadata": {
    "vscode": {
     "languageId": "r"
    }
   },
   "outputs": [
    {
     "name": "stdout",
     "output_type": "stream",
     "text": [
      "On peut conserver 3 dimensions pour avoir 96% de l'inertie expliquée sur le plan principal"
     ]
    },
    {
     "data": {
      "image/png": "[encoded data removed]",
      "text/plain": [
       "plot without title"
      ]
     },
     "metadata": {
      "image/png": {
       "height": 420,
       "width": 420
      }
     },
     "output_type": "display_data"
    }
   ],
   "source": [
    "# QUESTION 1.2\n",
    "plot((acp_body$sdev)**2/sum((acp_body$sdev)**2))\n",
    "cat(\"On peut conserver 3 dimensions pour avoir 96% de l'inertie expliquée sur le plan principal\")"
   ]
  },
  {
   "cell_type": "code",
   "execution_count": 30,
   "metadata": {
    "vscode": {
     "languageId": "r"
    }
   },
   "outputs": [
    {
     "name": "stdout",
     "output_type": "stream",
     "text": [
      "[1] \"On remarque que les paramètres se regroupent autour de 3 directions : {T.taille, Masse et T.poitrine}, {T.epaule}, {Taille}\"\n"
     ]
    },
    {
     "name": "stdout",
     "output_type": "stream",
     "text": [
      "[1] \"PC1 « Gabarit » : Sépare les grands (valeurs élevées pour les 5 variables) à droite et les petits à gauche.\"\n",
      "[1] \"PC2 « Embonpoint » : Sépare les variables liées à la taille et à la carrure (en bas) et celles liées à la masse et aux tours de taille et de poitrine (en haut).\"\n",
      "[1] \"Les femmes sont plutôt regroupées dans la zone des petits gabarits\"\n"
     ]
    },
    {
     "data": {
      "image/png": "[encoded data removed]",
      "text/plain": [
       "plot without title"
      ]
     },
     "metadata": {
      "image/png": {
       "height": 420,
       "width": 420
      }
     },
     "output_type": "display_data"
    }
   ],
   "source": [
    "# QUESTION 1.3\n",
    "\n",
    "biplot(acp_body)\n",
    "print(\"On remarque que les paramètres se regroupent autour de 3 directions : {T.taille, Masse et T.poitrine}, {T.epaule}, {Taille}\")\n",
    "print(\"PC1 « Gabarit » : Sépare les grands (valeurs élevées pour les 5 variables) à droite et les petits à gauche.\")\n",
    "print(\"PC2 « Embonpoint » : Sépare les variables liées à la taille et à la carrure (en bas) et celles liées à la masse et aux tours de taille et de poitrine (en haut).\")\n",
    "print(\"Les femmes sont plutôt regroupées dans la zone des petits gabarits\")"
   ]
  },
  {
   "cell_type": "code",
   "execution_count": 51,
   "metadata": {
    "vscode": {
     "languageId": "r"
    }
   },
   "outputs": [
    {
     "data": {
      "image/png": "[encoded data removed]",
      "text/plain": [
       "plot without title"
      ]
     },
     "metadata": {
      "image/png": {
       "height": 420,
       "width": 420
      }
     },
     "output_type": "display_data"
    }
   ],
   "source": [
    "# QUESTION 1.4\n",
    "\n",
    "plot(acp_body$x, col='white')\n",
    "# Déterminer la couleur pour chaque label\n",
    "couleurs <- ifelse(startsWith(rownames(acp_body$x), \"F\"), \"red\", \"blue\")\n",
    "# Ajouter les noms des lignes à la place des points\n",
    "text(acp_body$x, labels=rownames(acp_body$x), col=couleurs)"
   ]
  },
  {
   "cell_type": "markdown",
   "metadata": {},
   "source": [
    "## 2. Données `athle`\n",
    "\n",
    "Les données `athle` sont constituées d'un relevé des records nationaux d'athlétisme en 2010 de 26 pays pour 9 épreuves de course, du 100m au marathon."
   ]
  },
  {
   "cell_type": "code",
   "execution_count": 52,
   "metadata": {
    "vscode": {
     "languageId": "r"
    }
   },
   "outputs": [],
   "source": [
    "# Importation des données\n",
    "data_athle <- read.table(\"data/athle.csv\", header=TRUE, dec=\",\", row.names=1)"
   ]
  },
  {
   "cell_type": "markdown",
   "metadata": {},
   "source": [
    "<div class=\"alert alert-block alert-success\">\n",
    "    Utilisez la cellule suivante pour répondre aux questions :\n",
    "    <ol>\n",
    "        <li>Effectuer une ACP sur ces données <code>data_athle</code>.</li>\n",
    "        <li>Représenter l'éboulis des valeurs propres et le diagramme biplot. Commenter.</li>\n",
    "        <li>Quel(s) pré-traitement(s) vous semble(nt) nécessaire(s) (transformation de données, suppression d'observations atypiques, ...) ? Effectuer quelques manipulations pour produire des résultats d'ACP plus parlants.</li>\n",
    "    </ol>\n",
    "</div>"
   ]
  },
  {
   "cell_type": "code",
   "execution_count": 53,
   "metadata": {
    "vscode": {
     "languageId": "r"
    }
   },
   "outputs": [],
   "source": [
    "# QUESTION 2.1\n",
    "acp_athle <- prcomp(data_athle)"
   ]
  },
  {
   "cell_type": "code",
   "execution_count": 63,
   "metadata": {
    "vscode": {
     "languageId": "r"
    }
   },
   "outputs": [
    {
     "data": {
      "image/png": "[encoded data removed]",
      "text/plain": [
       "plot without title"
      ]
     },
     "metadata": {
      "image/png": {
       "height": 420,
       "width": 420
      }
     },
     "output_type": "display_data"
    },
    {
     "name": "stderr",
     "output_type": "stream",
     "text": [
      "Warning message in arrows(0, 0, y[, 1L] * 0.8, y[, 2L] * 0.8, col = col[2L], length = arrow.len):\n",
      "“zero-length arrow is of indeterminate angle and so skipped”\n"
     ]
    },
    {
     "name": "stdout",
     "output_type": "stream",
     "text": [
      "[1] \"Les valeurs sont toutes exprimées en secondes et suivant la course, on n'obtient pas les mêmes échelles de valeurs\"\n",
      "[1] \"Les courses longues (semi et marathon) ont donc les plus grandes variances et concentrent l'explicabilité de l'inertie\"\n"
     ]
    },
    {
     "data": {
      "image/png": "[encoded data removed]",
      "text/plain": [
       "plot without title"
      ]
     },
     "metadata": {
      "image/png": {
       "height": 420,
       "width": 420
      }
     },
     "output_type": "display_data"
    }
   ],
   "source": [
    "# QUESTION 2.2\n",
    "plot((acp_athle$sdev)**2/sum((acp_athle$sdev)**2))\n",
    "biplot(acp_athle)\n",
    "print(\"Les valeurs sont toutes exprimées en secondes et suivant la course, on n'obtient pas les mêmes échelles de valeurs\")\n",
    "print(\"Les courses longues (semi et marathon) ont donc les plus grandes variances et concentrent l'explicabilité de l'inertie\")"
   ]
  },
  {
   "cell_type": "code",
   "execution_count": 85,
   "metadata": {
    "vscode": {
     "languageId": "r"
    }
   },
   "outputs": [
    {
     "name": "stdout",
     "output_type": "stream",
     "text": [
      "[1] \"Il faudrait réduire tous les paramètres mesurés pour tenir compte des petites courses\"\n"
     ]
    },
    {
     "data": {
      "image/png": "[encoded data removed]",
      "text/plain": [
       "plot without title"
      ]
     },
     "metadata": {
      "image/png": {
       "height": 420,
       "width": 420
      }
     },
     "output_type": "display_data"
    },
    {
     "data": {
      "image/png": "[encoded data removed]",
      "text/plain": [
       "plot without title"
      ]
     },
     "metadata": {
      "image/png": {
       "height": 420,
       "width": 420
      }
     },
     "output_type": "display_data"
    }
   ],
   "source": [
    "# QUESTION 2.3\n",
    "\n",
    "print(\"Il faudrait réduire tous les paramètres mesurés pour tenir compte des petites courses\")\n",
    "# mean_athle <- apply(data_athle,2,mean)\n",
    "# sd_athle <- apply(data_athle,2,sd)\n",
    "data_athle_normalized_reduced <- scale(data_athle)\n",
    "acp_athle_normalized_reduced <- prcomp(data_athle_normalized_reduced)\n",
    "plot((acp_athle_normalized_reduced$sdev)**2/sum((acp_athle_normalized_reduced$sdev)**2))\n",
    "biplot(acp_athle_normalized_reduced)"
   ]
  },
  {
   "cell_type": "markdown",
   "metadata": {},
   "source": [
    "## 3. Données `cereal`\n",
    "\n",
    "Les données `cereal` contiennent la composition (relevée en 1993 aux États-Unis) selon 9 variables quantitatives de 77 types de paquets de céréales consommés au petit-déjeuner. Le fabriquant (variable `mfr`) est également disponible dans le jeu de données.\n",
    "\n",
    "  * `mfr` Manufacturer of cereal (A: American Home Food Products, G: General Mills, K: Kelloggs, N: Nabisco, P: Post, Q: Quaker Oats, R: Ralston Purina).\n",
    "  * `calories` Calories per serving.\n",
    "  * `protein` Grams of protein.\n",
    "  * `fat` Grams of fat.\n",
    "  * `sodium` Milligrams of sodium.\n",
    "  * `fiber` Grams of dietary fiber.\n",
    "  * `carbo` Grams of complex carbohydrates.\n",
    "  * `sugars` Grams of sugars.\n",
    "  * `potass` Milligrams of potassium.\n",
    "  * `vitamins` Vitamins and minerals (0, 25 or 100, indicating the typical percentage of FDA recommended).\n",
    "\n",
    "L'analyse de ce jeu de données a fait l'objet d'un concours proposé par l'*American Statistical Association* (sections *Statistical Computing* et *Statistical Graphics*) en 1993 sous le titre \"*Serial Correlation or Cereal Correlation ?* \" :\n",
    "\n",
    "*Every two years the Section on Statistical Graphics sponsors a special exposition where one or more data sets are made available, analyzed by anyone interested and presented in a special poster session at the Annual Meeting.*"
   ]
  },
  {
   "cell_type": "code",
   "execution_count": 86,
   "metadata": {
    "vscode": {
     "languageId": "r"
    }
   },
   "outputs": [],
   "source": [
    "# Importation des données\n",
    "data_cereal <- read.table(\"data/cereal.txt\", header=TRUE, row.names=1)"
   ]
  },
  {
   "cell_type": "code",
   "execution_count": 87,
   "metadata": {
    "vscode": {
     "languageId": "r"
    }
   },
   "outputs": [
    {
     "data": {
      "text/html": [
       "<table class=\"dataframe\">\n",
       "<caption>A data.frame: 77 × 10</caption>\n",
       "<thead>\n",
       "\t<tr><th></th><th scope=col>mfr</th><th scope=col>calories</th><th scope=col>protein</th><th scope=col>fat</th><th scope=col>sodium</th><th scope=col>fiber</th><th scope=col>carbo</th><th scope=col>sugars</th><th scope=col>potass</th><th scope=col>vitamins</th></tr>\n",
       "\t<tr><th></th><th scope=col>&lt;chr&gt;</th><th scope=col>&lt;int&gt;</th><th scope=col>&lt;int&gt;</th><th scope=col>&lt;int&gt;</th><th scope=col>&lt;int&gt;</th><th scope=col>&lt;dbl&gt;</th><th scope=col>&lt;dbl&gt;</th><th scope=col>&lt;int&gt;</th><th scope=col>&lt;int&gt;</th><th scope=col>&lt;int&gt;</th></tr>\n",
       "</thead>\n",
       "<tbody>\n",
       "\t<tr><th scope=row>100%_Bran</th><td>N</td><td> 70</td><td>4</td><td>1</td><td>130</td><td>10.0</td><td> 5.0</td><td> 6</td><td>280</td><td>25</td></tr>\n",
       "\t<tr><th scope=row>100%_Natural_Bran</th><td>Q</td><td>120</td><td>3</td><td>5</td><td> 15</td><td> 2.0</td><td> 8.0</td><td> 8</td><td>135</td><td> 0</td></tr>\n",
       "\t<tr><th scope=row>All-Bran</th><td>K</td><td> 70</td><td>4</td><td>1</td><td>260</td><td> 9.0</td><td> 7.0</td><td> 5</td><td>320</td><td>25</td></tr>\n",
       "\t<tr><th scope=row>All-Bran_with_Extra_Fiber</th><td>K</td><td> 50</td><td>4</td><td>0</td><td>140</td><td>14.0</td><td> 8.0</td><td> 0</td><td>330</td><td>25</td></tr>\n",
       "\t<tr><th scope=row>Almond_Delight</th><td>R</td><td>110</td><td>2</td><td>2</td><td>200</td><td> 1.0</td><td>14.0</td><td> 8</td><td> 90</td><td>25</td></tr>\n",
       "\t<tr><th scope=row>Apple_Cinnamon_Cheerios</th><td>G</td><td>110</td><td>2</td><td>2</td><td>180</td><td> 1.5</td><td>10.5</td><td>10</td><td> 70</td><td>25</td></tr>\n",
       "\t<tr><th scope=row>Apple_Jacks</th><td>K</td><td>110</td><td>2</td><td>0</td><td>125</td><td> 1.0</td><td>11.0</td><td>14</td><td> 30</td><td>25</td></tr>\n",
       "\t<tr><th scope=row>Basic_4</th><td>G</td><td>130</td><td>3</td><td>2</td><td>210</td><td> 2.0</td><td>18.0</td><td> 8</td><td>100</td><td>25</td></tr>\n",
       "\t<tr><th scope=row>Bran_Chex</th><td>R</td><td> 90</td><td>2</td><td>1</td><td>200</td><td> 4.0</td><td>15.0</td><td> 6</td><td>125</td><td>25</td></tr>\n",
       "\t<tr><th scope=row>Bran_Flakes</th><td>P</td><td> 90</td><td>3</td><td>0</td><td>210</td><td> 5.0</td><td>13.0</td><td> 5</td><td>190</td><td>25</td></tr>\n",
       "\t<tr><th scope=row>Cap'n'Crunch</th><td>Q</td><td>120</td><td>1</td><td>2</td><td>220</td><td> 0.0</td><td>12.0</td><td>12</td><td> 35</td><td>25</td></tr>\n",
       "\t<tr><th scope=row>Cheerios</th><td>G</td><td>110</td><td>6</td><td>2</td><td>290</td><td> 2.0</td><td>17.0</td><td> 1</td><td>105</td><td>25</td></tr>\n",
       "\t<tr><th scope=row>Cinnamon_Toast_Crunch</th><td>G</td><td>120</td><td>1</td><td>3</td><td>210</td><td> 0.0</td><td>13.0</td><td> 9</td><td> 45</td><td>25</td></tr>\n",
       "\t<tr><th scope=row>Clusters</th><td>G</td><td>110</td><td>3</td><td>2</td><td>140</td><td> 2.0</td><td>13.0</td><td> 7</td><td>105</td><td>25</td></tr>\n",
       "\t<tr><th scope=row>Cocoa_Puffs</th><td>G</td><td>110</td><td>1</td><td>1</td><td>180</td><td> 0.0</td><td>12.0</td><td>13</td><td> 55</td><td>25</td></tr>\n",
       "\t<tr><th scope=row>Corn_Chex</th><td>R</td><td>110</td><td>2</td><td>0</td><td>280</td><td> 0.0</td><td>22.0</td><td> 3</td><td> 25</td><td>25</td></tr>\n",
       "\t<tr><th scope=row>Corn_Flakes</th><td>K</td><td>100</td><td>2</td><td>0</td><td>290</td><td> 1.0</td><td>21.0</td><td> 2</td><td> 35</td><td>25</td></tr>\n",
       "\t<tr><th scope=row>Corn_Pops</th><td>K</td><td>110</td><td>1</td><td>0</td><td> 90</td><td> 1.0</td><td>13.0</td><td>12</td><td> 20</td><td>25</td></tr>\n",
       "\t<tr><th scope=row>Count_Chocula</th><td>G</td><td>110</td><td>1</td><td>1</td><td>180</td><td> 0.0</td><td>12.0</td><td>13</td><td> 65</td><td>25</td></tr>\n",
       "\t<tr><th scope=row>Cracklin'_Oat_Bran</th><td>K</td><td>110</td><td>3</td><td>3</td><td>140</td><td> 4.0</td><td>10.0</td><td> 7</td><td>160</td><td>25</td></tr>\n",
       "\t<tr><th scope=row>Cream_of_Wheat_(Quick)</th><td>N</td><td>100</td><td>3</td><td>0</td><td> 80</td><td> 1.0</td><td>21.0</td><td> 0</td><td> 90</td><td> 0</td></tr>\n",
       "\t<tr><th scope=row>Crispix</th><td>K</td><td>110</td><td>2</td><td>0</td><td>220</td><td> 1.0</td><td>21.0</td><td> 3</td><td> 30</td><td>25</td></tr>\n",
       "\t<tr><th scope=row>Crispy_Wheat_&amp;_Raisins</th><td>G</td><td>100</td><td>2</td><td>1</td><td>140</td><td> 2.0</td><td>11.0</td><td>10</td><td>120</td><td>25</td></tr>\n",
       "\t<tr><th scope=row>Double_Chex</th><td>R</td><td>100</td><td>2</td><td>0</td><td>190</td><td> 1.0</td><td>18.0</td><td> 5</td><td> 80</td><td>25</td></tr>\n",
       "\t<tr><th scope=row>Froot_Loops</th><td>K</td><td>110</td><td>2</td><td>1</td><td>125</td><td> 1.0</td><td>11.0</td><td>13</td><td> 30</td><td>25</td></tr>\n",
       "\t<tr><th scope=row>Frosted_Flakes</th><td>K</td><td>110</td><td>1</td><td>0</td><td>200</td><td> 1.0</td><td>14.0</td><td>11</td><td> 25</td><td>25</td></tr>\n",
       "\t<tr><th scope=row>Frosted_Mini-Wheats</th><td>K</td><td>100</td><td>3</td><td>0</td><td>  0</td><td> 3.0</td><td>14.0</td><td> 7</td><td>100</td><td>25</td></tr>\n",
       "\t<tr><th scope=row>Fruit_&amp;_Fibre_Dates,_Walnuts,_and_Oats</th><td>P</td><td>120</td><td>3</td><td>2</td><td>160</td><td> 5.0</td><td>12.0</td><td>10</td><td>200</td><td>25</td></tr>\n",
       "\t<tr><th scope=row>Fruitful_Bran</th><td>K</td><td>120</td><td>3</td><td>0</td><td>240</td><td> 5.0</td><td>14.0</td><td>12</td><td>190</td><td>25</td></tr>\n",
       "\t<tr><th scope=row>Fruity_Pebbles</th><td>P</td><td>110</td><td>1</td><td>1</td><td>135</td><td> 0.0</td><td>13.0</td><td>12</td><td> 25</td><td>25</td></tr>\n",
       "\t<tr><th scope=row>⋮</th><td>⋮</td><td>⋮</td><td>⋮</td><td>⋮</td><td>⋮</td><td>⋮</td><td>⋮</td><td>⋮</td><td>⋮</td><td>⋮</td></tr>\n",
       "\t<tr><th scope=row>Multi-Grain_Cheerios</th><td>G</td><td>100</td><td>2</td><td>1</td><td>220</td><td>2.0</td><td>15.0</td><td> 6</td><td> 90</td><td> 25</td></tr>\n",
       "\t<tr><th scope=row>Nut&amp;Honey_Crunch</th><td>K</td><td>120</td><td>2</td><td>1</td><td>190</td><td>0.0</td><td>15.0</td><td> 9</td><td> 40</td><td> 25</td></tr>\n",
       "\t<tr><th scope=row>Nutri-Grain_Almond-Raisin</th><td>K</td><td>140</td><td>3</td><td>2</td><td>220</td><td>3.0</td><td>21.0</td><td> 7</td><td>130</td><td> 25</td></tr>\n",
       "\t<tr><th scope=row>Nutri-grain_Wheat</th><td>K</td><td> 90</td><td>3</td><td>0</td><td>170</td><td>3.0</td><td>18.0</td><td> 2</td><td> 90</td><td> 25</td></tr>\n",
       "\t<tr><th scope=row>Oatmeal_Raisin_Crisp</th><td>G</td><td>130</td><td>3</td><td>2</td><td>170</td><td>1.5</td><td>13.5</td><td>10</td><td>120</td><td> 25</td></tr>\n",
       "\t<tr><th scope=row>Post_Nat._Raisin_Bran</th><td>P</td><td>120</td><td>3</td><td>1</td><td>200</td><td>6.0</td><td>11.0</td><td>14</td><td>260</td><td> 25</td></tr>\n",
       "\t<tr><th scope=row>Product_19</th><td>K</td><td>100</td><td>3</td><td>0</td><td>320</td><td>1.0</td><td>20.0</td><td> 3</td><td> 45</td><td>100</td></tr>\n",
       "\t<tr><th scope=row>Puffed_Rice</th><td>Q</td><td> 50</td><td>1</td><td>0</td><td>  0</td><td>0.0</td><td>13.0</td><td> 0</td><td> 15</td><td>  0</td></tr>\n",
       "\t<tr><th scope=row>Puffed_Wheat</th><td>Q</td><td> 50</td><td>2</td><td>0</td><td>  0</td><td>1.0</td><td>10.0</td><td> 0</td><td> 50</td><td>  0</td></tr>\n",
       "\t<tr><th scope=row>Quaker_Oat_Squares</th><td>Q</td><td>100</td><td>4</td><td>1</td><td>135</td><td>2.0</td><td>14.0</td><td> 6</td><td>110</td><td> 25</td></tr>\n",
       "\t<tr><th scope=row>Quaker_Oatmeal</th><td>Q</td><td>100</td><td>5</td><td>2</td><td>  0</td><td>2.7</td><td>14.0</td><td> 7</td><td>110</td><td>  0</td></tr>\n",
       "\t<tr><th scope=row>Raisin_Bran</th><td>K</td><td>120</td><td>3</td><td>1</td><td>210</td><td>5.0</td><td>14.0</td><td>12</td><td>240</td><td> 25</td></tr>\n",
       "\t<tr><th scope=row>Raisin_Nut_Bran</th><td>G</td><td>100</td><td>3</td><td>2</td><td>140</td><td>2.5</td><td>10.5</td><td> 8</td><td>140</td><td> 25</td></tr>\n",
       "\t<tr><th scope=row>Raisin_Squares</th><td>K</td><td> 90</td><td>2</td><td>0</td><td>  0</td><td>2.0</td><td>15.0</td><td> 6</td><td>110</td><td> 25</td></tr>\n",
       "\t<tr><th scope=row>Rice_Chex</th><td>R</td><td>110</td><td>1</td><td>0</td><td>240</td><td>0.0</td><td>23.0</td><td> 2</td><td> 30</td><td> 25</td></tr>\n",
       "\t<tr><th scope=row>Rice_Krispies</th><td>K</td><td>110</td><td>2</td><td>0</td><td>290</td><td>0.0</td><td>22.0</td><td> 3</td><td> 35</td><td> 25</td></tr>\n",
       "\t<tr><th scope=row>Shredded_Wheat</th><td>N</td><td> 80</td><td>2</td><td>0</td><td>  0</td><td>3.0</td><td>16.0</td><td> 0</td><td> 95</td><td>  0</td></tr>\n",
       "\t<tr><th scope=row>Shredded_Wheat_'n'Bran</th><td>N</td><td> 90</td><td>3</td><td>0</td><td>  0</td><td>4.0</td><td>19.0</td><td> 0</td><td>140</td><td>  0</td></tr>\n",
       "\t<tr><th scope=row>Shredded_Wheat_spoon_size</th><td>N</td><td> 90</td><td>3</td><td>0</td><td>  0</td><td>3.0</td><td>20.0</td><td> 0</td><td>120</td><td>  0</td></tr>\n",
       "\t<tr><th scope=row>Smacks</th><td>K</td><td>110</td><td>2</td><td>1</td><td> 70</td><td>1.0</td><td> 9.0</td><td>15</td><td> 40</td><td> 25</td></tr>\n",
       "\t<tr><th scope=row>Special_K</th><td>K</td><td>110</td><td>6</td><td>0</td><td>230</td><td>1.0</td><td>16.0</td><td> 3</td><td> 55</td><td> 25</td></tr>\n",
       "\t<tr><th scope=row>Strawberry_Fruit_Wheats</th><td>N</td><td> 90</td><td>2</td><td>0</td><td> 15</td><td>3.0</td><td>15.0</td><td> 5</td><td> 90</td><td> 25</td></tr>\n",
       "\t<tr><th scope=row>Total_Corn_Flakes</th><td>G</td><td>110</td><td>2</td><td>1</td><td>200</td><td>0.0</td><td>21.0</td><td> 3</td><td> 35</td><td>100</td></tr>\n",
       "\t<tr><th scope=row>Total_Raisin_Bran</th><td>G</td><td>140</td><td>3</td><td>1</td><td>190</td><td>4.0</td><td>15.0</td><td>14</td><td>230</td><td>100</td></tr>\n",
       "\t<tr><th scope=row>Total_Whole_Grain</th><td>G</td><td>100</td><td>3</td><td>1</td><td>200</td><td>3.0</td><td>16.0</td><td> 3</td><td>110</td><td>100</td></tr>\n",
       "\t<tr><th scope=row>Triples</th><td>G</td><td>110</td><td>2</td><td>1</td><td>250</td><td>0.0</td><td>21.0</td><td> 3</td><td> 60</td><td> 25</td></tr>\n",
       "\t<tr><th scope=row>Trix</th><td>G</td><td>110</td><td>1</td><td>1</td><td>140</td><td>0.0</td><td>13.0</td><td>12</td><td> 25</td><td> 25</td></tr>\n",
       "\t<tr><th scope=row>Wheat_Chex</th><td>R</td><td>100</td><td>3</td><td>1</td><td>230</td><td>3.0</td><td>17.0</td><td> 3</td><td>115</td><td> 25</td></tr>\n",
       "\t<tr><th scope=row>Wheaties</th><td>G</td><td>100</td><td>3</td><td>1</td><td>200</td><td>3.0</td><td>17.0</td><td> 3</td><td>110</td><td> 25</td></tr>\n",
       "\t<tr><th scope=row>Wheaties_Honey_Gold</th><td>G</td><td>110</td><td>2</td><td>1</td><td>200</td><td>1.0</td><td>16.0</td><td> 8</td><td> 60</td><td> 25</td></tr>\n",
       "</tbody>\n",
       "</table>\n"
      ],
      "text/latex": [
       "A data.frame: 77 × 10\n",
       "\\begin{tabular}{r|llllllllll}\n",
       "  & mfr & calories & protein & fat & sodium & fiber & carbo & sugars & potass & vitamins\\\\\n",
       "  & <chr> & <int> & <int> & <int> & <int> & <dbl> & <dbl> & <int> & <int> & <int>\\\\\n",
       "\\hline\n",
       "\t100\\%\\_Bran & N &  70 & 4 & 1 & 130 & 10.0 &  5.0 &  6 & 280 & 25\\\\\n",
       "\t100\\%\\_Natural\\_Bran & Q & 120 & 3 & 5 &  15 &  2.0 &  8.0 &  8 & 135 &  0\\\\\n",
       "\tAll-Bran & K &  70 & 4 & 1 & 260 &  9.0 &  7.0 &  5 & 320 & 25\\\\\n",
       "\tAll-Bran\\_with\\_Extra\\_Fiber & K &  50 & 4 & 0 & 140 & 14.0 &  8.0 &  0 & 330 & 25\\\\\n",
       "\tAlmond\\_Delight & R & 110 & 2 & 2 & 200 &  1.0 & 14.0 &  8 &  90 & 25\\\\\n",
       "\tApple\\_Cinnamon\\_Cheerios & G & 110 & 2 & 2 & 180 &  1.5 & 10.5 & 10 &  70 & 25\\\\\n",
       "\tApple\\_Jacks & K & 110 & 2 & 0 & 125 &  1.0 & 11.0 & 14 &  30 & 25\\\\\n",
       "\tBasic\\_4 & G & 130 & 3 & 2 & 210 &  2.0 & 18.0 &  8 & 100 & 25\\\\\n",
       "\tBran\\_Chex & R &  90 & 2 & 1 & 200 &  4.0 & 15.0 &  6 & 125 & 25\\\\\n",
       "\tBran\\_Flakes & P &  90 & 3 & 0 & 210 &  5.0 & 13.0 &  5 & 190 & 25\\\\\n",
       "\tCap'n'Crunch & Q & 120 & 1 & 2 & 220 &  0.0 & 12.0 & 12 &  35 & 25\\\\\n",
       "\tCheerios & G & 110 & 6 & 2 & 290 &  2.0 & 17.0 &  1 & 105 & 25\\\\\n",
       "\tCinnamon\\_Toast\\_Crunch & G & 120 & 1 & 3 & 210 &  0.0 & 13.0 &  9 &  45 & 25\\\\\n",
       "\tClusters & G & 110 & 3 & 2 & 140 &  2.0 & 13.0 &  7 & 105 & 25\\\\\n",
       "\tCocoa\\_Puffs & G & 110 & 1 & 1 & 180 &  0.0 & 12.0 & 13 &  55 & 25\\\\\n",
       "\tCorn\\_Chex & R & 110 & 2 & 0 & 280 &  0.0 & 22.0 &  3 &  25 & 25\\\\\n",
       "\tCorn\\_Flakes & K & 100 & 2 & 0 & 290 &  1.0 & 21.0 &  2 &  35 & 25\\\\\n",
       "\tCorn\\_Pops & K & 110 & 1 & 0 &  90 &  1.0 & 13.0 & 12 &  20 & 25\\\\\n",
       "\tCount\\_Chocula & G & 110 & 1 & 1 & 180 &  0.0 & 12.0 & 13 &  65 & 25\\\\\n",
       "\tCracklin'\\_Oat\\_Bran & K & 110 & 3 & 3 & 140 &  4.0 & 10.0 &  7 & 160 & 25\\\\\n",
       "\tCream\\_of\\_Wheat\\_(Quick) & N & 100 & 3 & 0 &  80 &  1.0 & 21.0 &  0 &  90 &  0\\\\\n",
       "\tCrispix & K & 110 & 2 & 0 & 220 &  1.0 & 21.0 &  3 &  30 & 25\\\\\n",
       "\tCrispy\\_Wheat\\_\\&\\_Raisins & G & 100 & 2 & 1 & 140 &  2.0 & 11.0 & 10 & 120 & 25\\\\\n",
       "\tDouble\\_Chex & R & 100 & 2 & 0 & 190 &  1.0 & 18.0 &  5 &  80 & 25\\\\\n",
       "\tFroot\\_Loops & K & 110 & 2 & 1 & 125 &  1.0 & 11.0 & 13 &  30 & 25\\\\\n",
       "\tFrosted\\_Flakes & K & 110 & 1 & 0 & 200 &  1.0 & 14.0 & 11 &  25 & 25\\\\\n",
       "\tFrosted\\_Mini-Wheats & K & 100 & 3 & 0 &   0 &  3.0 & 14.0 &  7 & 100 & 25\\\\\n",
       "\tFruit\\_\\&\\_Fibre\\_Dates,\\_Walnuts,\\_and\\_Oats & P & 120 & 3 & 2 & 160 &  5.0 & 12.0 & 10 & 200 & 25\\\\\n",
       "\tFruitful\\_Bran & K & 120 & 3 & 0 & 240 &  5.0 & 14.0 & 12 & 190 & 25\\\\\n",
       "\tFruity\\_Pebbles & P & 110 & 1 & 1 & 135 &  0.0 & 13.0 & 12 &  25 & 25\\\\\n",
       "\t⋮ & ⋮ & ⋮ & ⋮ & ⋮ & ⋮ & ⋮ & ⋮ & ⋮ & ⋮ & ⋮\\\\\n",
       "\tMulti-Grain\\_Cheerios & G & 100 & 2 & 1 & 220 & 2.0 & 15.0 &  6 &  90 &  25\\\\\n",
       "\tNut\\&Honey\\_Crunch & K & 120 & 2 & 1 & 190 & 0.0 & 15.0 &  9 &  40 &  25\\\\\n",
       "\tNutri-Grain\\_Almond-Raisin & K & 140 & 3 & 2 & 220 & 3.0 & 21.0 &  7 & 130 &  25\\\\\n",
       "\tNutri-grain\\_Wheat & K &  90 & 3 & 0 & 170 & 3.0 & 18.0 &  2 &  90 &  25\\\\\n",
       "\tOatmeal\\_Raisin\\_Crisp & G & 130 & 3 & 2 & 170 & 1.5 & 13.5 & 10 & 120 &  25\\\\\n",
       "\tPost\\_Nat.\\_Raisin\\_Bran & P & 120 & 3 & 1 & 200 & 6.0 & 11.0 & 14 & 260 &  25\\\\\n",
       "\tProduct\\_19 & K & 100 & 3 & 0 & 320 & 1.0 & 20.0 &  3 &  45 & 100\\\\\n",
       "\tPuffed\\_Rice & Q &  50 & 1 & 0 &   0 & 0.0 & 13.0 &  0 &  15 &   0\\\\\n",
       "\tPuffed\\_Wheat & Q &  50 & 2 & 0 &   0 & 1.0 & 10.0 &  0 &  50 &   0\\\\\n",
       "\tQuaker\\_Oat\\_Squares & Q & 100 & 4 & 1 & 135 & 2.0 & 14.0 &  6 & 110 &  25\\\\\n",
       "\tQuaker\\_Oatmeal & Q & 100 & 5 & 2 &   0 & 2.7 & 14.0 &  7 & 110 &   0\\\\\n",
       "\tRaisin\\_Bran & K & 120 & 3 & 1 & 210 & 5.0 & 14.0 & 12 & 240 &  25\\\\\n",
       "\tRaisin\\_Nut\\_Bran & G & 100 & 3 & 2 & 140 & 2.5 & 10.5 &  8 & 140 &  25\\\\\n",
       "\tRaisin\\_Squares & K &  90 & 2 & 0 &   0 & 2.0 & 15.0 &  6 & 110 &  25\\\\\n",
       "\tRice\\_Chex & R & 110 & 1 & 0 & 240 & 0.0 & 23.0 &  2 &  30 &  25\\\\\n",
       "\tRice\\_Krispies & K & 110 & 2 & 0 & 290 & 0.0 & 22.0 &  3 &  35 &  25\\\\\n",
       "\tShredded\\_Wheat & N &  80 & 2 & 0 &   0 & 3.0 & 16.0 &  0 &  95 &   0\\\\\n",
       "\tShredded\\_Wheat\\_'n'Bran & N &  90 & 3 & 0 &   0 & 4.0 & 19.0 &  0 & 140 &   0\\\\\n",
       "\tShredded\\_Wheat\\_spoon\\_size & N &  90 & 3 & 0 &   0 & 3.0 & 20.0 &  0 & 120 &   0\\\\\n",
       "\tSmacks & K & 110 & 2 & 1 &  70 & 1.0 &  9.0 & 15 &  40 &  25\\\\\n",
       "\tSpecial\\_K & K & 110 & 6 & 0 & 230 & 1.0 & 16.0 &  3 &  55 &  25\\\\\n",
       "\tStrawberry\\_Fruit\\_Wheats & N &  90 & 2 & 0 &  15 & 3.0 & 15.0 &  5 &  90 &  25\\\\\n",
       "\tTotal\\_Corn\\_Flakes & G & 110 & 2 & 1 & 200 & 0.0 & 21.0 &  3 &  35 & 100\\\\\n",
       "\tTotal\\_Raisin\\_Bran & G & 140 & 3 & 1 & 190 & 4.0 & 15.0 & 14 & 230 & 100\\\\\n",
       "\tTotal\\_Whole\\_Grain & G & 100 & 3 & 1 & 200 & 3.0 & 16.0 &  3 & 110 & 100\\\\\n",
       "\tTriples & G & 110 & 2 & 1 & 250 & 0.0 & 21.0 &  3 &  60 &  25\\\\\n",
       "\tTrix & G & 110 & 1 & 1 & 140 & 0.0 & 13.0 & 12 &  25 &  25\\\\\n",
       "\tWheat\\_Chex & R & 100 & 3 & 1 & 230 & 3.0 & 17.0 &  3 & 115 &  25\\\\\n",
       "\tWheaties & G & 100 & 3 & 1 & 200 & 3.0 & 17.0 &  3 & 110 &  25\\\\\n",
       "\tWheaties\\_Honey\\_Gold & G & 110 & 2 & 1 & 200 & 1.0 & 16.0 &  8 &  60 &  25\\\\\n",
       "\\end{tabular}\n"
      ],
      "text/markdown": [
       "\n",
       "A data.frame: 77 × 10\n",
       "\n",
       "| <!--/--> | mfr &lt;chr&gt; | calories &lt;int&gt; | protein &lt;int&gt; | fat &lt;int&gt; | sodium &lt;int&gt; | fiber &lt;dbl&gt; | carbo &lt;dbl&gt; | sugars &lt;int&gt; | potass &lt;int&gt; | vitamins &lt;int&gt; |\n",
       "|---|---|---|---|---|---|---|---|---|---|---|\n",
       "| 100%_Bran | N |  70 | 4 | 1 | 130 | 10.0 |  5.0 |  6 | 280 | 25 |\n",
       "| 100%_Natural_Bran | Q | 120 | 3 | 5 |  15 |  2.0 |  8.0 |  8 | 135 |  0 |\n",
       "| All-Bran | K |  70 | 4 | 1 | 260 |  9.0 |  7.0 |  5 | 320 | 25 |\n",
       "| All-Bran_with_Extra_Fiber | K |  50 | 4 | 0 | 140 | 14.0 |  8.0 |  0 | 330 | 25 |\n",
       "| Almond_Delight | R | 110 | 2 | 2 | 200 |  1.0 | 14.0 |  8 |  90 | 25 |\n",
       "| Apple_Cinnamon_Cheerios | G | 110 | 2 | 2 | 180 |  1.5 | 10.5 | 10 |  70 | 25 |\n",
       "| Apple_Jacks | K | 110 | 2 | 0 | 125 |  1.0 | 11.0 | 14 |  30 | 25 |\n",
       "| Basic_4 | G | 130 | 3 | 2 | 210 |  2.0 | 18.0 |  8 | 100 | 25 |\n",
       "| Bran_Chex | R |  90 | 2 | 1 | 200 |  4.0 | 15.0 |  6 | 125 | 25 |\n",
       "| Bran_Flakes | P |  90 | 3 | 0 | 210 |  5.0 | 13.0 |  5 | 190 | 25 |\n",
       "| Cap'n'Crunch | Q | 120 | 1 | 2 | 220 |  0.0 | 12.0 | 12 |  35 | 25 |\n",
       "| Cheerios | G | 110 | 6 | 2 | 290 |  2.0 | 17.0 |  1 | 105 | 25 |\n",
       "| Cinnamon_Toast_Crunch | G | 120 | 1 | 3 | 210 |  0.0 | 13.0 |  9 |  45 | 25 |\n",
       "| Clusters | G | 110 | 3 | 2 | 140 |  2.0 | 13.0 |  7 | 105 | 25 |\n",
       "| Cocoa_Puffs | G | 110 | 1 | 1 | 180 |  0.0 | 12.0 | 13 |  55 | 25 |\n",
       "| Corn_Chex | R | 110 | 2 | 0 | 280 |  0.0 | 22.0 |  3 |  25 | 25 |\n",
       "| Corn_Flakes | K | 100 | 2 | 0 | 290 |  1.0 | 21.0 |  2 |  35 | 25 |\n",
       "| Corn_Pops | K | 110 | 1 | 0 |  90 |  1.0 | 13.0 | 12 |  20 | 25 |\n",
       "| Count_Chocula | G | 110 | 1 | 1 | 180 |  0.0 | 12.0 | 13 |  65 | 25 |\n",
       "| Cracklin'_Oat_Bran | K | 110 | 3 | 3 | 140 |  4.0 | 10.0 |  7 | 160 | 25 |\n",
       "| Cream_of_Wheat_(Quick) | N | 100 | 3 | 0 |  80 |  1.0 | 21.0 |  0 |  90 |  0 |\n",
       "| Crispix | K | 110 | 2 | 0 | 220 |  1.0 | 21.0 |  3 |  30 | 25 |\n",
       "| Crispy_Wheat_&amp;_Raisins | G | 100 | 2 | 1 | 140 |  2.0 | 11.0 | 10 | 120 | 25 |\n",
       "| Double_Chex | R | 100 | 2 | 0 | 190 |  1.0 | 18.0 |  5 |  80 | 25 |\n",
       "| Froot_Loops | K | 110 | 2 | 1 | 125 |  1.0 | 11.0 | 13 |  30 | 25 |\n",
       "| Frosted_Flakes | K | 110 | 1 | 0 | 200 |  1.0 | 14.0 | 11 |  25 | 25 |\n",
       "| Frosted_Mini-Wheats | K | 100 | 3 | 0 |   0 |  3.0 | 14.0 |  7 | 100 | 25 |\n",
       "| Fruit_&amp;_Fibre_Dates,_Walnuts,_and_Oats | P | 120 | 3 | 2 | 160 |  5.0 | 12.0 | 10 | 200 | 25 |\n",
       "| Fruitful_Bran | K | 120 | 3 | 0 | 240 |  5.0 | 14.0 | 12 | 190 | 25 |\n",
       "| Fruity_Pebbles | P | 110 | 1 | 1 | 135 |  0.0 | 13.0 | 12 |  25 | 25 |\n",
       "| ⋮ | ⋮ | ⋮ | ⋮ | ⋮ | ⋮ | ⋮ | ⋮ | ⋮ | ⋮ | ⋮ |\n",
       "| Multi-Grain_Cheerios | G | 100 | 2 | 1 | 220 | 2.0 | 15.0 |  6 |  90 |  25 |\n",
       "| Nut&amp;Honey_Crunch | K | 120 | 2 | 1 | 190 | 0.0 | 15.0 |  9 |  40 |  25 |\n",
       "| Nutri-Grain_Almond-Raisin | K | 140 | 3 | 2 | 220 | 3.0 | 21.0 |  7 | 130 |  25 |\n",
       "| Nutri-grain_Wheat | K |  90 | 3 | 0 | 170 | 3.0 | 18.0 |  2 |  90 |  25 |\n",
       "| Oatmeal_Raisin_Crisp | G | 130 | 3 | 2 | 170 | 1.5 | 13.5 | 10 | 120 |  25 |\n",
       "| Post_Nat._Raisin_Bran | P | 120 | 3 | 1 | 200 | 6.0 | 11.0 | 14 | 260 |  25 |\n",
       "| Product_19 | K | 100 | 3 | 0 | 320 | 1.0 | 20.0 |  3 |  45 | 100 |\n",
       "| Puffed_Rice | Q |  50 | 1 | 0 |   0 | 0.0 | 13.0 |  0 |  15 |   0 |\n",
       "| Puffed_Wheat | Q |  50 | 2 | 0 |   0 | 1.0 | 10.0 |  0 |  50 |   0 |\n",
       "| Quaker_Oat_Squares | Q | 100 | 4 | 1 | 135 | 2.0 | 14.0 |  6 | 110 |  25 |\n",
       "| Quaker_Oatmeal | Q | 100 | 5 | 2 |   0 | 2.7 | 14.0 |  7 | 110 |   0 |\n",
       "| Raisin_Bran | K | 120 | 3 | 1 | 210 | 5.0 | 14.0 | 12 | 240 |  25 |\n",
       "| Raisin_Nut_Bran | G | 100 | 3 | 2 | 140 | 2.5 | 10.5 |  8 | 140 |  25 |\n",
       "| Raisin_Squares | K |  90 | 2 | 0 |   0 | 2.0 | 15.0 |  6 | 110 |  25 |\n",
       "| Rice_Chex | R | 110 | 1 | 0 | 240 | 0.0 | 23.0 |  2 |  30 |  25 |\n",
       "| Rice_Krispies | K | 110 | 2 | 0 | 290 | 0.0 | 22.0 |  3 |  35 |  25 |\n",
       "| Shredded_Wheat | N |  80 | 2 | 0 |   0 | 3.0 | 16.0 |  0 |  95 |   0 |\n",
       "| Shredded_Wheat_'n'Bran | N |  90 | 3 | 0 |   0 | 4.0 | 19.0 |  0 | 140 |   0 |\n",
       "| Shredded_Wheat_spoon_size | N |  90 | 3 | 0 |   0 | 3.0 | 20.0 |  0 | 120 |   0 |\n",
       "| Smacks | K | 110 | 2 | 1 |  70 | 1.0 |  9.0 | 15 |  40 |  25 |\n",
       "| Special_K | K | 110 | 6 | 0 | 230 | 1.0 | 16.0 |  3 |  55 |  25 |\n",
       "| Strawberry_Fruit_Wheats | N |  90 | 2 | 0 |  15 | 3.0 | 15.0 |  5 |  90 |  25 |\n",
       "| Total_Corn_Flakes | G | 110 | 2 | 1 | 200 | 0.0 | 21.0 |  3 |  35 | 100 |\n",
       "| Total_Raisin_Bran | G | 140 | 3 | 1 | 190 | 4.0 | 15.0 | 14 | 230 | 100 |\n",
       "| Total_Whole_Grain | G | 100 | 3 | 1 | 200 | 3.0 | 16.0 |  3 | 110 | 100 |\n",
       "| Triples | G | 110 | 2 | 1 | 250 | 0.0 | 21.0 |  3 |  60 |  25 |\n",
       "| Trix | G | 110 | 1 | 1 | 140 | 0.0 | 13.0 | 12 |  25 |  25 |\n",
       "| Wheat_Chex | R | 100 | 3 | 1 | 230 | 3.0 | 17.0 |  3 | 115 |  25 |\n",
       "| Wheaties | G | 100 | 3 | 1 | 200 | 3.0 | 17.0 |  3 | 110 |  25 |\n",
       "| Wheaties_Honey_Gold | G | 110 | 2 | 1 | 200 | 1.0 | 16.0 |  8 |  60 |  25 |\n",
       "\n"
      ],
      "text/plain": [
       "                                       mfr calories protein fat sodium fiber\n",
       "100%_Bran                              N    70      4       1   130    10.0 \n",
       "100%_Natural_Bran                      Q   120      3       5    15     2.0 \n",
       "All-Bran                               K    70      4       1   260     9.0 \n",
       "All-Bran_with_Extra_Fiber              K    50      4       0   140    14.0 \n",
       "Almond_Delight                         R   110      2       2   200     1.0 \n",
       "Apple_Cinnamon_Cheerios                G   110      2       2   180     1.5 \n",
       "Apple_Jacks                            K   110      2       0   125     1.0 \n",
       "Basic_4                                G   130      3       2   210     2.0 \n",
       "Bran_Chex                              R    90      2       1   200     4.0 \n",
       "Bran_Flakes                            P    90      3       0   210     5.0 \n",
       "Cap'n'Crunch                           Q   120      1       2   220     0.0 \n",
       "Cheerios                               G   110      6       2   290     2.0 \n",
       "Cinnamon_Toast_Crunch                  G   120      1       3   210     0.0 \n",
       "Clusters                               G   110      3       2   140     2.0 \n",
       "Cocoa_Puffs                            G   110      1       1   180     0.0 \n",
       "Corn_Chex                              R   110      2       0   280     0.0 \n",
       "Corn_Flakes                            K   100      2       0   290     1.0 \n",
       "Corn_Pops                              K   110      1       0    90     1.0 \n",
       "Count_Chocula                          G   110      1       1   180     0.0 \n",
       "Cracklin'_Oat_Bran                     K   110      3       3   140     4.0 \n",
       "Cream_of_Wheat_(Quick)                 N   100      3       0    80     1.0 \n",
       "Crispix                                K   110      2       0   220     1.0 \n",
       "Crispy_Wheat_&_Raisins                 G   100      2       1   140     2.0 \n",
       "Double_Chex                            R   100      2       0   190     1.0 \n",
       "Froot_Loops                            K   110      2       1   125     1.0 \n",
       "Frosted_Flakes                         K   110      1       0   200     1.0 \n",
       "Frosted_Mini-Wheats                    K   100      3       0     0     3.0 \n",
       "Fruit_&_Fibre_Dates,_Walnuts,_and_Oats P   120      3       2   160     5.0 \n",
       "Fruitful_Bran                          K   120      3       0   240     5.0 \n",
       "Fruity_Pebbles                         P   110      1       1   135     0.0 \n",
       "⋮                                      ⋮   ⋮        ⋮       ⋮   ⋮      ⋮    \n",
       "Multi-Grain_Cheerios                   G   100      2       1   220    2.0  \n",
       "Nut&Honey_Crunch                       K   120      2       1   190    0.0  \n",
       "Nutri-Grain_Almond-Raisin              K   140      3       2   220    3.0  \n",
       "Nutri-grain_Wheat                      K    90      3       0   170    3.0  \n",
       "Oatmeal_Raisin_Crisp                   G   130      3       2   170    1.5  \n",
       "Post_Nat._Raisin_Bran                  P   120      3       1   200    6.0  \n",
       "Product_19                             K   100      3       0   320    1.0  \n",
       "Puffed_Rice                            Q    50      1       0     0    0.0  \n",
       "Puffed_Wheat                           Q    50      2       0     0    1.0  \n",
       "Quaker_Oat_Squares                     Q   100      4       1   135    2.0  \n",
       "Quaker_Oatmeal                         Q   100      5       2     0    2.7  \n",
       "Raisin_Bran                            K   120      3       1   210    5.0  \n",
       "Raisin_Nut_Bran                        G   100      3       2   140    2.5  \n",
       "Raisin_Squares                         K    90      2       0     0    2.0  \n",
       "Rice_Chex                              R   110      1       0   240    0.0  \n",
       "Rice_Krispies                          K   110      2       0   290    0.0  \n",
       "Shredded_Wheat                         N    80      2       0     0    3.0  \n",
       "Shredded_Wheat_'n'Bran                 N    90      3       0     0    4.0  \n",
       "Shredded_Wheat_spoon_size              N    90      3       0     0    3.0  \n",
       "Smacks                                 K   110      2       1    70    1.0  \n",
       "Special_K                              K   110      6       0   230    1.0  \n",
       "Strawberry_Fruit_Wheats                N    90      2       0    15    3.0  \n",
       "Total_Corn_Flakes                      G   110      2       1   200    0.0  \n",
       "Total_Raisin_Bran                      G   140      3       1   190    4.0  \n",
       "Total_Whole_Grain                      G   100      3       1   200    3.0  \n",
       "Triples                                G   110      2       1   250    0.0  \n",
       "Trix                                   G   110      1       1   140    0.0  \n",
       "Wheat_Chex                             R   100      3       1   230    3.0  \n",
       "Wheaties                               G   100      3       1   200    3.0  \n",
       "Wheaties_Honey_Gold                    G   110      2       1   200    1.0  \n",
       "                                       carbo sugars potass vitamins\n",
       "100%_Bran                               5.0   6     280    25      \n",
       "100%_Natural_Bran                       8.0   8     135     0      \n",
       "All-Bran                                7.0   5     320    25      \n",
       "All-Bran_with_Extra_Fiber               8.0   0     330    25      \n",
       "Almond_Delight                         14.0   8      90    25      \n",
       "Apple_Cinnamon_Cheerios                10.5  10      70    25      \n",
       "Apple_Jacks                            11.0  14      30    25      \n",
       "Basic_4                                18.0   8     100    25      \n",
       "Bran_Chex                              15.0   6     125    25      \n",
       "Bran_Flakes                            13.0   5     190    25      \n",
       "Cap'n'Crunch                           12.0  12      35    25      \n",
       "Cheerios                               17.0   1     105    25      \n",
       "Cinnamon_Toast_Crunch                  13.0   9      45    25      \n",
       "Clusters                               13.0   7     105    25      \n",
       "Cocoa_Puffs                            12.0  13      55    25      \n",
       "Corn_Chex                              22.0   3      25    25      \n",
       "Corn_Flakes                            21.0   2      35    25      \n",
       "Corn_Pops                              13.0  12      20    25      \n",
       "Count_Chocula                          12.0  13      65    25      \n",
       "Cracklin'_Oat_Bran                     10.0   7     160    25      \n",
       "Cream_of_Wheat_(Quick)                 21.0   0      90     0      \n",
       "Crispix                                21.0   3      30    25      \n",
       "Crispy_Wheat_&_Raisins                 11.0  10     120    25      \n",
       "Double_Chex                            18.0   5      80    25      \n",
       "Froot_Loops                            11.0  13      30    25      \n",
       "Frosted_Flakes                         14.0  11      25    25      \n",
       "Frosted_Mini-Wheats                    14.0   7     100    25      \n",
       "Fruit_&_Fibre_Dates,_Walnuts,_and_Oats 12.0  10     200    25      \n",
       "Fruitful_Bran                          14.0  12     190    25      \n",
       "Fruity_Pebbles                         13.0  12      25    25      \n",
       "⋮                                      ⋮     ⋮      ⋮      ⋮       \n",
       "Multi-Grain_Cheerios                   15.0   6      90     25     \n",
       "Nut&Honey_Crunch                       15.0   9      40     25     \n",
       "Nutri-Grain_Almond-Raisin              21.0   7     130     25     \n",
       "Nutri-grain_Wheat                      18.0   2      90     25     \n",
       "Oatmeal_Raisin_Crisp                   13.5  10     120     25     \n",
       "Post_Nat._Raisin_Bran                  11.0  14     260     25     \n",
       "Product_19                             20.0   3      45    100     \n",
       "Puffed_Rice                            13.0   0      15      0     \n",
       "Puffed_Wheat                           10.0   0      50      0     \n",
       "Quaker_Oat_Squares                     14.0   6     110     25     \n",
       "Quaker_Oatmeal                         14.0   7     110      0     \n",
       "Raisin_Bran                            14.0  12     240     25     \n",
       "Raisin_Nut_Bran                        10.5   8     140     25     \n",
       "Raisin_Squares                         15.0   6     110     25     \n",
       "Rice_Chex                              23.0   2      30     25     \n",
       "Rice_Krispies                          22.0   3      35     25     \n",
       "Shredded_Wheat                         16.0   0      95      0     \n",
       "Shredded_Wheat_'n'Bran                 19.0   0     140      0     \n",
       "Shredded_Wheat_spoon_size              20.0   0     120      0     \n",
       "Smacks                                  9.0  15      40     25     \n",
       "Special_K                              16.0   3      55     25     \n",
       "Strawberry_Fruit_Wheats                15.0   5      90     25     \n",
       "Total_Corn_Flakes                      21.0   3      35    100     \n",
       "Total_Raisin_Bran                      15.0  14     230    100     \n",
       "Total_Whole_Grain                      16.0   3     110    100     \n",
       "Triples                                21.0   3      60     25     \n",
       "Trix                                   13.0  12      25     25     \n",
       "Wheat_Chex                             17.0   3     115     25     \n",
       "Wheaties                               17.0   3     110     25     \n",
       "Wheaties_Honey_Gold                    16.0   8      60     25     "
      ]
     },
     "metadata": {},
     "output_type": "display_data"
    }
   ],
   "source": [
    "data_cereal"
   ]
  },
  {
   "cell_type": "markdown",
   "metadata": {},
   "source": [
    "Plusieurs packages proposent des fonctions pour calculer une ACP en offrant d'autres options que celles proposées par la fonction `prcomp()`. Un package très populaire dédié à l'analyse exploratoire de données multivariées est [`FactoMineR`](http://factominer.free.fr/) qui est maintenu par une équipe française (d'où les noms français de certains éléments). Nous vous proposons d'utiliser ce package pour le jeu de données `cereal`."
   ]
  },
  {
   "cell_type": "code",
   "execution_count": 88,
   "metadata": {
    "vscode": {
     "languageId": "r"
    }
   },
   "outputs": [
    {
     "ename": "ERROR",
     "evalue": "Error in library(FactoMineR): there is no package called ‘FactoMineR’\n",
     "output_type": "error",
     "traceback": [
      "Error in library(FactoMineR): there is no package called ‘FactoMineR’\nTraceback:\n",
      "1. stop(packageNotFoundError(package, lib.loc, sys.call()))"
     ]
    }
   ],
   "source": [
    "# Chargement du package FactoMineR\n",
    "library(FactoMineR)"
   ]
  },
  {
   "cell_type": "markdown",
   "metadata": {},
   "source": [
    "Le calcul de l'ACP se fait avec la fonction `PCA()` et nous pouvons utiliser l'argument `quali.sup=` pour omettre les variables qualitatives (`FactoMineR` parle de *variable supplémentaire*)."
   ]
  },
  {
   "cell_type": "code",
   "execution_count": null,
   "metadata": {
    "vscode": {
     "languageId": "r"
    }
   },
   "outputs": [],
   "source": [
    "# Calcul de l'ACP\n",
    "acp_cereal <- PCA(data_cereal, quali.sup=1)"
   ]
  },
  {
   "cell_type": "markdown",
   "metadata": {},
   "source": [
    "La fonction `plot()` affiche le résultat dans le plan principal pour représenter les individus (`choix=\"ind\"`) ou les variables (`choix=\"var\"`)."
   ]
  },
  {
   "cell_type": "code",
   "execution_count": null,
   "metadata": {
    "vscode": {
     "languageId": "r"
    }
   },
   "outputs": [],
   "source": [
    "# Représentation des variables dans le plan principal\n",
    "plot(acp_cereal, choix=\"var\")"
   ]
  },
  {
   "cell_type": "code",
   "execution_count": null,
   "metadata": {
    "vscode": {
     "languageId": "r"
    }
   },
   "outputs": [],
   "source": [
    "# Représentation des individus dans le plan principal en codant en couleur le fabriquant (colonne 1)\n",
    "plot(acp_cereal, choix=\"ind\", habillage=1)"
   ]
  },
  {
   "cell_type": "markdown",
   "metadata": {},
   "source": [
    "<div class=\"alert alert-block alert-success\">\n",
    "    Pour suivre la recommandation <i>\"Ne mange pas trop gras, trop salé, trop sucré\"</i>, quelle(s) céréale(s) vaut-il mieux consommer ? Dans quelle zones du graphique de l'ACP se trouvent les céréales à éviter ?\n",
    "</div>"
   ]
  },
  {
   "cell_type": "markdown",
   "metadata": {},
   "source": [
    "## 4. Aspects mathématiques\n",
    "\n",
    "Nous allons travailler avec une matrice à 5 lignes et 3 colonnes dont les éléments sont issus d'un tirage aléatoire sans remise d'entiers entre 1 et 15."
   ]
  },
  {
   "cell_type": "code",
   "execution_count": 102,
   "metadata": {
    "vscode": {
     "languageId": "r"
    }
   },
   "outputs": [],
   "source": [
    "X <- matrix(sample(1:15, size=15), ncol=3)"
   ]
  },
  {
   "cell_type": "markdown",
   "metadata": {},
   "source": [
    "Nous commençons par calculer l'ACP et représenter le diagramme biplot."
   ]
  },
  {
   "cell_type": "code",
   "execution_count": 103,
   "metadata": {
    "vscode": {
     "languageId": "r"
    }
   },
   "outputs": [
    {
     "data": {
      "image/png": "[encoded data removed]",
      "text/plain": [
       "plot without title"
      ]
     },
     "metadata": {
      "image/png": {
       "height": 420,
       "width": 420
      }
     },
     "output_type": "display_data"
    }
   ],
   "source": [
    "acp <- prcomp(X)\n",
    "biplot(acp)"
   ]
  },
  {
   "cell_type": "markdown",
   "metadata": {},
   "source": [
    "L'objectif des manipulations suivantes consiste à retrouver les valeurs issues de l'ACP présentes dans les composants de l'objet `acp` ou dans le résumé de l'objet obtenu avec la fonction `summary()`."
   ]
  },
  {
   "cell_type": "code",
   "execution_count": 104,
   "metadata": {
    "vscode": {
     "languageId": "r"
    }
   },
   "outputs": [
    {
     "data": {
      "text/plain": [
       "Standard deviations (1, .., p=3):\n",
       "[1] 6.515422 3.482878 3.334492\n",
       "\n",
       "Rotation (n x k) = (3 x 3):\n",
       "            PC1           PC2        PC3\n",
       "[1,]  0.5322951 -0.8340107508 -0.1452169\n",
       "[2,]  0.8043924  0.5517480109 -0.2202886\n",
       "[3,] -0.2638462 -0.0004472035 -0.9645647"
      ]
     },
     "metadata": {},
     "output_type": "display_data"
    }
   ],
   "source": [
    "acp"
   ]
  },
  {
   "cell_type": "code",
   "execution_count": 105,
   "metadata": {
    "vscode": {
     "languageId": "r"
    }
   },
   "outputs": [
    {
     "data": {
      "text/plain": [
       "Importance of components:\n",
       "                          PC1    PC2    PC3\n",
       "Standard deviation     6.5154 3.4829 3.3345\n",
       "Proportion of Variance 0.6461 0.1846 0.1692\n",
       "Cumulative Proportion  0.6461 0.8308 1.0000"
      ]
     },
     "metadata": {},
     "output_type": "display_data"
    }
   ],
   "source": [
    "summary(acp)"
   ]
  },
  {
   "cell_type": "markdown",
   "metadata": {},
   "source": [
    "<div class=\"alert alert-block alert-success\">\n",
    "    Utilisez la cellule suivante pour répondre aux questions :\n",
    "    <ol>\n",
    "        <li>Une ACP étant une diagonalisation de la matrice de covariance, vérifier que les informations renvoyées par <code>prcomp()</code> sont similaires à celles calculées par la fonction <code>eigen()</code>. Commenter les différences si il y en a.</li>\n",
    "        <li>Où retrouve-t-on les vecteurs propres renvoyés par <code>eigen()</code> dans l'objet <code>acp</code> ? Le signe de ces vecteurs est-il important ?</li>\n",
    "        <li>Retrouver les résultats de l'ACP en procédant cette fois à la décomposition en valeurs singulières (fonction <code>svd()</code>) stockée dans un objet <code>s</code>.</li>\n",
    "        <li>Vérifier que les vecteurs singuliers à droite (<code>s&dollar;v</code>) sont bien similaires au composant <code>rotation</code> du résultat de <code>prcomp()</code> et également aux vecteurs propres de la matrice de covariance (éventuellement au signe près).</li>\n",
    "        <li>Concernant les valeurs singulières, vérifier que l'on retrouve les écarts-types renvoyés par <code>prcomp()</code> et les racines carrées des valeurs propres de la matrice de covariance.</li>\n",
    "        <li>Retrouver les coordonnées des individus sur les composantes principales données par <code>acp&dollar;x</code>. Pour cela, nous pouvons par exemple faire le produit matriciel des données initiales et des vecteurs propres de la matrice de covariance.</li>\n",
    "        <li>Procéder à des calculs analogues pour vérifier les calculs d'une ACP réduite (diagonalisation de la matrice des corrélations).</li>\n",
    "    </ol>\n",
    "</div>"
   ]
  },
  {
   "cell_type": "code",
   "execution_count": null,
   "metadata": {
    "vscode": {
     "languageId": "r"
    }
   },
   "outputs": [
    {
     "name": "stdout",
     "output_type": "stream",
     "text": [
      "ACP"
     ]
    },
    {
     "data": {
      "text/plain": [
       "Standard deviations (1, .., p=3):\n",
       "[1] 6.515422 3.482878 3.334492\n",
       "\n",
       "Rotation (n x k) = (3 x 3):\n",
       "            PC1           PC2        PC3\n",
       "[1,]  0.5322951 -0.8340107508 -0.1452169\n",
       "[2,]  0.8043924  0.5517480109 -0.2202886\n",
       "[3,] -0.2638462 -0.0004472035 -0.9645647"
      ]
     },
     "metadata": {},
     "output_type": "display_data"
    },
    {
     "name": "stdout",
     "output_type": "stream",
     "text": [
      "\n",
      "Valeurs propres de la matrice de covariance de X"
     ]
    },
    {
     "data": {
      "text/plain": [
       "eigen() decomposition\n",
       "$values\n",
       "[1] 42.45072 12.13044 11.11884\n",
       "\n",
       "$vectors\n",
       "           [,1]          [,2]      [,3]\n",
       "[1,] -0.5322951  0.8340107508 0.1452169\n",
       "[2,] -0.8043924 -0.5517480109 0.2202886\n",
       "[3,]  0.2638462  0.0004472035 0.9645647\n"
      ]
     },
     "metadata": {},
     "output_type": "display_data"
    },
    {
     "name": "stdout",
     "output_type": "stream",
     "text": [
      "\n",
      "L'ACP renvoie l'opposé des valeurs propres de la matrice de  covariance des observations."
     ]
    }
   ],
   "source": [
    "# QUESTION 4.1\n",
    "cat(\"ACP\")\n",
    "acp\n",
    "cat(\"\\nValeurs propres de la matrice de covariance de X\")\n",
    "eigen(cov(X))\n",
    "cat(\"\\nL'ACP renvoie l'opposé des valeurs propres de la matrice de covariance des observations.\")"
   ]
  },
  {
   "cell_type": "code",
   "execution_count": null,
   "metadata": {
    "vscode": {
     "languageId": "r"
    }
   },
   "outputs": [
    {
     "data": {
      "text/html": [
       "<table class=\"dataframe\">\n",
       "<caption>A matrix: 3 × 3 of type dbl</caption>\n",
       "<thead>\n",
       "\t<tr><th scope=col>PC1</th><th scope=col>PC2</th><th scope=col>PC3</th></tr>\n",
       "</thead>\n",
       "<tbody>\n",
       "\t<tr><td> 0.5322951</td><td>-0.8340107508</td><td>-0.1452169</td></tr>\n",
       "\t<tr><td> 0.8043924</td><td> 0.5517480109</td><td>-0.2202886</td></tr>\n",
       "\t<tr><td>-0.2638462</td><td>-0.0004472035</td><td>-0.9645647</td></tr>\n",
       "</tbody>\n",
       "</table>\n"
      ],
      "text/latex": [
       "A matrix: 3 × 3 of type dbl\n",
       "\\begin{tabular}{lll}\n",
       " PC1 & PC2 & PC3\\\\\n",
       "\\hline\n",
       "\t  0.5322951 & -0.8340107508 & -0.1452169\\\\\n",
       "\t  0.8043924 &  0.5517480109 & -0.2202886\\\\\n",
       "\t -0.2638462 & -0.0004472035 & -0.9645647\\\\\n",
       "\\end{tabular}\n"
      ],
      "text/markdown": [
       "\n",
       "A matrix: 3 × 3 of type dbl\n",
       "\n",
       "| PC1 | PC2 | PC3 |\n",
       "|---|---|---|\n",
       "|  0.5322951 | -0.8340107508 | -0.1452169 |\n",
       "|  0.8043924 |  0.5517480109 | -0.2202886 |\n",
       "| -0.2638462 | -0.0004472035 | -0.9645647 |\n",
       "\n"
      ],
      "text/plain": [
       "     PC1        PC2           PC3       \n",
       "[1,]  0.5322951 -0.8340107508 -0.1452169\n",
       "[2,]  0.8043924  0.5517480109 -0.2202886\n",
       "[3,] -0.2638462 -0.0004472035 -0.9645647"
      ]
     },
     "metadata": {},
     "output_type": "display_data"
    },
    {
     "name": "stdout",
     "output_type": "stream",
     "text": [
      "Le signe n'est pas important, ça inverse juste la direction de notre vecteur"
     ]
    }
   ],
   "source": [
    "# QUESTION 4.2\n",
    "acp$rotation\n",
    "cat(\"Le signe n'est pas important, ça inverse juste la direction de notre vecteur\")"
   ]
  },
  {
   "cell_type": "code",
   "execution_count": 161,
   "metadata": {
    "vscode": {
     "languageId": "r"
    }
   },
   "outputs": [
    {
     "data": {
      "text/html": [
       "<table class=\"dataframe\">\n",
       "<caption>A matrix: 3 × 3 of type dbl</caption>\n",
       "<tbody>\n",
       "\t<tr><td>-0.5322951</td><td> 0.8340107508</td><td>0.1452169</td></tr>\n",
       "\t<tr><td>-0.8043924</td><td>-0.5517480109</td><td>0.2202886</td></tr>\n",
       "\t<tr><td> 0.2638462</td><td> 0.0004472035</td><td>0.9645647</td></tr>\n",
       "</tbody>\n",
       "</table>\n"
      ],
      "text/latex": [
       "A matrix: 3 × 3 of type dbl\n",
       "\\begin{tabular}{lll}\n",
       "\t -0.5322951 &  0.8340107508 & 0.1452169\\\\\n",
       "\t -0.8043924 & -0.5517480109 & 0.2202886\\\\\n",
       "\t  0.2638462 &  0.0004472035 & 0.9645647\\\\\n",
       "\\end{tabular}\n"
      ],
      "text/markdown": [
       "\n",
       "A matrix: 3 × 3 of type dbl\n",
       "\n",
       "| -0.5322951 |  0.8340107508 | 0.1452169 |\n",
       "| -0.8043924 | -0.5517480109 | 0.2202886 |\n",
       "|  0.2638462 |  0.0004472035 | 0.9645647 |\n",
       "\n"
      ],
      "text/plain": [
       "     [,1]       [,2]          [,3]     \n",
       "[1,] -0.5322951  0.8340107508 0.1452169\n",
       "[2,] -0.8043924 -0.5517480109 0.2202886\n",
       "[3,]  0.2638462  0.0004472035 0.9645647"
      ]
     },
     "metadata": {},
     "output_type": "display_data"
    }
   ],
   "source": [
    "# QUESTION 4.3\n",
    "s <- svd(cov(X))\n",
    "s$v"
   ]
  },
  {
   "cell_type": "code",
   "execution_count": 129,
   "metadata": {
    "vscode": {
     "languageId": "r"
    }
   },
   "outputs": [
    {
     "name": "stdout",
     "output_type": "stream",
     "text": [
      "[1] \"OK !\"\n"
     ]
    }
   ],
   "source": [
    "# QUESTION 4.4\n",
    "print(\"OK !\")"
   ]
  },
  {
   "cell_type": "code",
   "execution_count": 136,
   "metadata": {
    "vscode": {
     "languageId": "r"
    }
   },
   "outputs": [
    {
     "data": {
      "text/html": [
       "<style>\n",
       ".list-inline {list-style: none; margin:0; padding: 0}\n",
       ".list-inline>li {display: inline-block}\n",
       ".list-inline>li:not(:last-child)::after {content: \"\\00b7\"; padding: 0 .5ex}\n",
       "</style>\n",
       "<ol class=list-inline><li>6.51542194079526</li><li>3.4828782463313</li><li>3.33449187352975</li></ol>\n"
      ],
      "text/latex": [
       "\\begin{enumerate*}\n",
       "\\item 6.51542194079526\n",
       "\\item 3.4828782463313\n",
       "\\item 3.33449187352975\n",
       "\\end{enumerate*}\n"
      ],
      "text/markdown": [
       "1. 6.51542194079526\n",
       "2. 3.4828782463313\n",
       "3. 3.33449187352975\n",
       "\n",
       "\n"
      ],
      "text/plain": [
       "[1] 6.515422 3.482878 3.334492"
      ]
     },
     "metadata": {},
     "output_type": "display_data"
    },
    {
     "data": {
      "text/html": [
       "<style>\n",
       ".list-inline {list-style: none; margin:0; padding: 0}\n",
       ".list-inline>li {display: inline-block}\n",
       ".list-inline>li:not(:last-child)::after {content: \"\\00b7\"; padding: 0 .5ex}\n",
       "</style>\n",
       "<ol class=list-inline><li>6.51542194079526</li><li>3.4828782463313</li><li>3.33449187352975</li></ol>\n"
      ],
      "text/latex": [
       "\\begin{enumerate*}\n",
       "\\item 6.51542194079526\n",
       "\\item 3.4828782463313\n",
       "\\item 3.33449187352975\n",
       "\\end{enumerate*}\n"
      ],
      "text/markdown": [
       "1. 6.51542194079526\n",
       "2. 3.4828782463313\n",
       "3. 3.33449187352975\n",
       "\n",
       "\n"
      ],
      "text/plain": [
       "[1] 6.515422 3.482878 3.334492"
      ]
     },
     "metadata": {},
     "output_type": "display_data"
    },
    {
     "data": {
      "text/html": [
       "<style>\n",
       ".list-inline {list-style: none; margin:0; padding: 0}\n",
       ".list-inline>li {display: inline-block}\n",
       ".list-inline>li:not(:last-child)::after {content: \"\\00b7\"; padding: 0 .5ex}\n",
       "</style>\n",
       "<ol class=list-inline><li>6.51542194079526</li><li>3.4828782463313</li><li>3.33449187352975</li></ol>\n"
      ],
      "text/latex": [
       "\\begin{enumerate*}\n",
       "\\item 6.51542194079526\n",
       "\\item 3.4828782463313\n",
       "\\item 3.33449187352975\n",
       "\\end{enumerate*}\n"
      ],
      "text/markdown": [
       "1. 6.51542194079526\n",
       "2. 3.4828782463313\n",
       "3. 3.33449187352975\n",
       "\n",
       "\n"
      ],
      "text/plain": [
       "[1] 6.515422 3.482878 3.334492"
      ]
     },
     "metadata": {},
     "output_type": "display_data"
    }
   ],
   "source": [
    "# QUESTION 4.5\n",
    "acp$sdev\n",
    "\n",
    "sqrt(s$d)\n",
    "\n",
    "sqrt(eigen(cov(X))$values)"
   ]
  },
  {
   "cell_type": "code",
   "execution_count": 157,
   "metadata": {
    "vscode": {
     "languageId": "r"
    }
   },
   "outputs": [
    {
     "data": {
      "text/html": [
       "<table class=\"dataframe\">\n",
       "<caption>A matrix: 5 × 3 of type dbl</caption>\n",
       "<thead>\n",
       "\t<tr><th scope=col>PC1</th><th scope=col>PC2</th><th scope=col>PC3</th></tr>\n",
       "</thead>\n",
       "<tbody>\n",
       "\t<tr><td>-4.659638</td><td> 0.3522083</td><td> 2.9332097</td></tr>\n",
       "\t<tr><td>-4.634885</td><td> 4.5081430</td><td>-0.1856994</td></tr>\n",
       "\t<tr><td>-4.926178</td><td>-4.9235775</td><td>-2.1751208</td></tr>\n",
       "\t<tr><td> 7.893639</td><td>-1.3523568</td><td> 3.6471356</td></tr>\n",
       "\t<tr><td> 6.327063</td><td> 1.4155831</td><td>-4.2195251</td></tr>\n",
       "</tbody>\n",
       "</table>\n"
      ],
      "text/latex": [
       "A matrix: 5 × 3 of type dbl\n",
       "\\begin{tabular}{lll}\n",
       " PC1 & PC2 & PC3\\\\\n",
       "\\hline\n",
       "\t -4.659638 &  0.3522083 &  2.9332097\\\\\n",
       "\t -4.634885 &  4.5081430 & -0.1856994\\\\\n",
       "\t -4.926178 & -4.9235775 & -2.1751208\\\\\n",
       "\t  7.893639 & -1.3523568 &  3.6471356\\\\\n",
       "\t  6.327063 &  1.4155831 & -4.2195251\\\\\n",
       "\\end{tabular}\n"
      ],
      "text/markdown": [
       "\n",
       "A matrix: 5 × 3 of type dbl\n",
       "\n",
       "| PC1 | PC2 | PC3 |\n",
       "|---|---|---|\n",
       "| -4.659638 |  0.3522083 |  2.9332097 |\n",
       "| -4.634885 |  4.5081430 | -0.1856994 |\n",
       "| -4.926178 | -4.9235775 | -2.1751208 |\n",
       "|  7.893639 | -1.3523568 |  3.6471356 |\n",
       "|  6.327063 |  1.4155831 | -4.2195251 |\n",
       "\n"
      ],
      "text/plain": [
       "     PC1       PC2        PC3       \n",
       "[1,] -4.659638  0.3522083  2.9332097\n",
       "[2,] -4.634885  4.5081430 -0.1856994\n",
       "[3,] -4.926178 -4.9235775 -2.1751208\n",
       "[4,]  7.893639 -1.3523568  3.6471356\n",
       "[5,]  6.327063  1.4155831 -4.2195251"
      ]
     },
     "metadata": {},
     "output_type": "display_data"
    },
    {
     "data": {
      "text/html": [
       "<table class=\"dataframe\">\n",
       "<caption>A matrix: 5 × 3 of type dbl</caption>\n",
       "<tbody>\n",
       "\t<tr><td> -5.092109</td><td> 2.799308</td><td> 6.575279</td></tr>\n",
       "\t<tr><td> -5.116862</td><td>-1.356626</td><td> 9.694188</td></tr>\n",
       "\t<tr><td> -4.825569</td><td> 8.075094</td><td>11.683610</td></tr>\n",
       "\t<tr><td>-17.645386</td><td> 4.503874</td><td> 5.861353</td></tr>\n",
       "\t<tr><td>-16.078811</td><td> 1.735934</td><td>13.728014</td></tr>\n",
       "</tbody>\n",
       "</table>\n"
      ],
      "text/latex": [
       "A matrix: 5 × 3 of type dbl\n",
       "\\begin{tabular}{lll}\n",
       "\t  -5.092109 &  2.799308 &  6.575279\\\\\n",
       "\t  -5.116862 & -1.356626 &  9.694188\\\\\n",
       "\t  -4.825569 &  8.075094 & 11.683610\\\\\n",
       "\t -17.645386 &  4.503874 &  5.861353\\\\\n",
       "\t -16.078811 &  1.735934 & 13.728014\\\\\n",
       "\\end{tabular}\n"
      ],
      "text/markdown": [
       "\n",
       "A matrix: 5 × 3 of type dbl\n",
       "\n",
       "|  -5.092109 |  2.799308 |  6.575279 |\n",
       "|  -5.116862 | -1.356626 |  9.694188 |\n",
       "|  -4.825569 |  8.075094 | 11.683610 |\n",
       "| -17.645386 |  4.503874 |  5.861353 |\n",
       "| -16.078811 |  1.735934 | 13.728014 |\n",
       "\n"
      ],
      "text/plain": [
       "     [,1]       [,2]      [,3]     \n",
       "[1,]  -5.092109  2.799308  6.575279\n",
       "[2,]  -5.116862 -1.356626  9.694188\n",
       "[3,]  -4.825569  8.075094 11.683610\n",
       "[4,] -17.645386  4.503874  5.861353\n",
       "[5,] -16.078811  1.735934 13.728014"
      ]
     },
     "metadata": {},
     "output_type": "display_data"
    }
   ],
   "source": [
    "# QUESTION 4.6\n",
    "acp$x\n",
    "\n",
    "X %*% (eigen(cov(X))$vectors)"
   ]
  },
  {
   "cell_type": "markdown",
   "metadata": {},
   "source": [
    "## 5. PCR vs PLS\n",
    "\n",
    "Les but ici est de comparer les deux approches sur le jeux de données `DatairSDD`. Ce jeux de données contient des informations relative à la qualité de l'air. \n",
    "On cherche à expliquer la densité de monoxyne d'azote en fonction des autres variables. On comparera alors plusieurs méthodes de régression."
   ]
  },
  {
   "cell_type": "code",
   "execution_count": 162,
   "metadata": {
    "vscode": {
     "languageId": "r"
    }
   },
   "outputs": [],
   "source": [
    "# install.packages(\"pls\")\n",
    "library(\"pls\")"
   ]
  },
  {
   "cell_type": "markdown",
   "metadata": {},
   "source": [
    "<div class=\"alert alert-block alert-success\">\n",
    "    Utilisez la cellule suivante pour répondre aux questions :\n",
    "    <ol>\n",
    "        <li> Ajuster un modèle linéaire. </li>\n",
    "        <li> Effectuer une régression en composante principale avec la fonction <code>pcr()</code>. </li>\n",
    "        <li> Effectuer une regression PLS avec la fonction <code>plsr()</code>. </li>\n",
    "        <li> Comparer les erreurs de ces trois modèles en termes d'erreur quadratique moyenne en fonction de nombre de composantes utilisées. <code>RMESP()</code> </li>\n",
    "    </ol>\n",
    "</div>"
   ]
  },
  {
   "cell_type": "code",
   "execution_count": 165,
   "metadata": {
    "vscode": {
     "languageId": "r"
    }
   },
   "outputs": [],
   "source": [
    "data_airsdd <- read.table(\"data/DatairSDD.csv\", header=TRUE, dec=\",\", row.names=1, sep=',')"
   ]
  },
  {
   "cell_type": "code",
   "execution_count": 177,
   "metadata": {
    "vscode": {
     "languageId": "r"
    }
   },
   "outputs": [],
   "source": [
    "data_airsdd_scaled <- scale(data_airsdd)"
   ]
  },
  {
   "cell_type": "code",
   "execution_count": 178,
   "metadata": {
    "vscode": {
     "languageId": "r"
    }
   },
   "outputs": [
    {
     "data": {
      "text/plain": [
       "\n",
       "Call:\n",
       "lm(formula = NOx.GT. ~ PT08.S1.CO. + NMHC.GT. + PT08.S2.NMHC. + \n",
       "    PT08.S3.NOx. + NO2.GT. + PT08.S4.NO2. + PT08.S5.O3., data = data.frame(data_airsdd_scaled))\n",
       "\n",
       "Coefficients:\n",
       "  (Intercept)    PT08.S1.CO.       NMHC.GT.  PT08.S2.NMHC.   PT08.S3.NOx.  \n",
       "   -2.393e-16      2.303e-02      1.028e-01     -8.382e-02      1.009e-01  \n",
       "      NO2.GT.   PT08.S4.NO2.    PT08.S5.O3.  \n",
       "    6.329e-01      5.139e-01      4.871e-02  \n"
      ]
     },
     "metadata": {},
     "output_type": "display_data"
    }
   ],
   "source": [
    "model_air <- lm(formula = NOx.GT. ~ PT08.S1.CO. + NMHC.GT. + PT08.S2.NMHC. + PT08.S3.NOx.+ NO2.GT. + PT08.S4.NO2. + PT08.S5.O3., data=data.frame(data_airsdd_scaled))\n",
    "model_air"
   ]
  },
  {
   "cell_type": "code",
   "execution_count": 181,
   "metadata": {
    "vscode": {
     "languageId": "r"
    }
   },
   "outputs": [
    {
     "data": {
      "text/plain": [
       "Principal component regression, fitted with the singular value decomposition algorithm.\n",
       "Call:\n",
       "pcr(formula = NOx.GT. ~ PT08.S1.CO. + NMHC.GT. + PT08.S2.NMHC. +     PT08.S3.NOx. + NO2.GT. + PT08.S4.NO2. + PT08.S5.O3., data = data.frame(data_airsdd_scaled))"
      ]
     },
     "metadata": {},
     "output_type": "display_data"
    }
   ],
   "source": [
    "# QUESTION 5.2\n",
    "model_pcr <- pcr(formula = NOx.GT. ~ PT08.S1.CO. + NMHC.GT. + PT08.S2.NMHC. + PT08.S3.NOx.+ NO2.GT. + PT08.S4.NO2. + PT08.S5.O3., data=data.frame(data_airsdd_scaled))\n",
    "model_pcr"
   ]
  },
  {
   "cell_type": "code",
   "execution_count": 184,
   "metadata": {
    "vscode": {
     "languageId": "r"
    }
   },
   "outputs": [
    {
     "data": {
      "text/plain": [
       "Partial least squares regression, fitted with the kernel algorithm.\n",
       "Call:\n",
       "plsr(formula = NOx.GT. ~ PT08.S1.CO. + NMHC.GT. + PT08.S2.NMHC. +     PT08.S3.NOx. + NO2.GT. + PT08.S4.NO2. + PT08.S5.O3., data = data.frame(data_airsdd_scaled))"
      ]
     },
     "metadata": {},
     "output_type": "display_data"
    }
   ],
   "source": [
    "# QUESTION 5.3\n",
    "model_pls <- plsr(formula = NOx.GT. ~ PT08.S1.CO. + NMHC.GT. + PT08.S2.NMHC. + PT08.S3.NOx.+ NO2.GT. + PT08.S4.NO2. + PT08.S5.O3., data=data.frame(data_airsdd_scaled))\n",
    "model_pls"
   ]
  },
  {
   "cell_type": "code",
   "execution_count": 188,
   "metadata": {
    "vscode": {
     "languageId": "r"
    }
   },
   "outputs": [
    {
     "ename": "ERROR",
     "evalue": "Error in RMESP(model_pcr): could not find function \"RMESP\"\n",
     "output_type": "error",
     "traceback": [
      "Error in RMESP(model_pcr): could not find function \"RMESP\"\nTraceback:\n"
     ]
    }
   ],
   "source": [
    "# QUESTION 5.4\n",
    "RMESP(model_pcr)"
   ]
  }
 ],
 "metadata": {
  "kernelspec": {
   "display_name": "R",
   "language": "R",
   "name": "ir"
  },
  "language_info": {
   "codemirror_mode": "r",
   "file_extension": ".r",
   "mimetype": "text/x-r-source",
   "name": "R",
   "pygments_lexer": "r",
   "version": "4.5.1"
  }
 },
 "nbformat": 4,
 "nbformat_minor": 4
}
