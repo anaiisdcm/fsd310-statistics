{
 "cells": [
  {
   "cell_type": "markdown",
   "metadata": {},
   "source": [
    "# TP 3.2 : Modélisation, Modèle linéaire et ANOVA"
   ]
  },
  {
   "cell_type": "markdown",
   "metadata": {},
   "source": [
    "## 1. Régression linéaire simple\n",
    "\n",
    "Pour ce premier exercice, nous manipulerons le jeu de données `cars`."
   ]
  },
  {
   "cell_type": "code",
   "execution_count": 73,
   "metadata": {
    "vscode": {
     "languageId": "r"
    }
   },
   "outputs": [
    {
     "name": "stdout",
     "output_type": "stream",
     "text": [
      "cars                 package:datasets                  R Documentation\n",
      "\n",
      "_\bS_\bp_\be_\be_\bd _\ba_\bn_\bd _\bS_\bt_\bo_\bp_\bp_\bi_\bn_\bg _\bD_\bi_\bs_\bt_\ba_\bn_\bc_\be_\bs _\bo_\bf _\bC_\ba_\br_\bs\n",
      "\n",
      "_\bD_\be_\bs_\bc_\br_\bi_\bp_\bt_\bi_\bo_\bn:\n",
      "\n",
      "     The data give the speed of cars and the distances taken to stop.\n",
      "     Note that the data were recorded in the 1920s.\n",
      "\n",
      "_\bU_\bs_\ba_\bg_\be:\n",
      "\n",
      "     cars\n",
      "     \n",
      "_\bF_\bo_\br_\bm_\ba_\bt:\n",
      "\n",
      "     A data frame with 50 observations on 2 variables.\n",
      "\n",
      "       [,1]  speed  numeric  Speed (mph)            \n",
      "       [,2]  dist   numeric  Stopping distance (ft) \n",
      "      \n",
      "_\bS_\bo_\bu_\br_\bc_\be:\n",
      "\n",
      "     Ezekiel, M. (1930) _Methods of Correlation Analysis_.  Wiley.\n",
      "\n",
      "_\bR_\be_\bf_\be_\br_\be_\bn_\bc_\be_\bs:\n",
      "\n",
      "     McNeil, D. R. (1977) _Interactive Data Analysis_.  Wiley.\n",
      "\n",
      "_\bE_\bx_\ba_\bm_\bp_\bl_\be_\bs:\n",
      "\n",
      "     require(stats); require(graphics)\n",
      "     plot(cars, xlab = \"Speed (mph)\", ylab = \"Stopping distance (ft)\",\n",
      "          las = 1)\n",
      "     lines(lowess(cars$speed, cars$dist, f = 2/3, iter = 3), col = \"red\")\n",
      "     title(main = \"cars data\")\n",
      "     plot(cars, xlab = \"Speed (mph)\", ylab = \"Stopping distance (ft)\",\n",
      "          las = 1, log = \"xy\")\n",
      "     title(main = \"cars data (logarithmic scales)\")\n",
      "     lines(lowess(cars$speed, cars$dist, f = 2/3, iter = 3), col = \"red\")\n",
      "     summary(fm1 <- lm(log(dist) ~ log(speed), data = cars))\n",
      "     opar <- par(mfrow = c(2, 2), oma = c(0, 0, 1.1, 0),\n",
      "                 mar = c(4.1, 4.1, 2.1, 1.1))\n",
      "     plot(fm1)\n",
      "     par(opar)\n",
      "     \n",
      "     ## An example of polynomial regression\n",
      "     plot(cars, xlab = \"Speed (mph)\", ylab = \"Stopping distance (ft)\",\n",
      "         las = 1, xlim = c(0, 25))\n",
      "     d <- seq(0, 25, length.out = 200)\n",
      "     for(degree in 1:4) {\n",
      "       fm <- lm(dist ~ poly(speed, degree), data = cars)\n",
      "       assign(paste(\"cars\", degree, sep = \".\"), fm)\n",
      "       lines(d, predict(fm, data.frame(speed = d)), col = degree)\n",
      "     }\n",
      "     anova(cars.1, cars.2, cars.3, cars.4)\n",
      "     "
     ]
    }
   ],
   "source": [
    "help(cars)"
   ]
  },
  {
   "cell_type": "markdown",
   "metadata": {},
   "source": [
    "<div class=\"alert alert-block alert-success\">\n",
    "    Utilisez la cellule suivante pour répondre aux questions :\n",
    "    <ol>\n",
    "        <li>À partir des formules rappelées en cours, calculer l'équation de la droite de régression de <code>cars&dollar;dist</code> en fonction de <code>cars&dollar;speed</code>.</li>\n",
    "        <li>Retrouver ce résultat directement grâce à la fonction <code>lm()</code>.</li>\n",
    "        <li>Calculer la part de variance expliquée par le modèle en fonction du rapport de la variance des résidus sur la variance initiale. Cette quantité s'appelle <i>coefficient de détermination linéaire de Pearson</i> ou plus simplement $R^2$.</li>\n",
    "        <li>Représenter graphiquement le nuage de points des données traversé par la droite de régression.<br>\n",
    "            <center><img src=\"img/regression_simple.png\"></center>\n",
    "        </li>\n",
    "    </ol>\n",
    "</div>"
   ]
  },
  {
   "cell_type": "markdown",
   "metadata": {},
   "source": [
    "$x_{i}$ : observation $i$ de la vitesse\n",
    "\n",
    "$y_{i}$ : observation $i$ de la distance de freinage\n",
    "\n",
    "Loss for scalar setting : $\\mathcal{L}=\\sum_{i} (y_{i}-\\hat{y_{i}})^2 = \\sum_{i} (y_{i}-\\theta_{0} - \\theta_{1}x_{i})^2$\n",
    "\n",
    "Vanishing gradient of $\\mathcal{L}$ :\n",
    "\n",
    "Normal equation :"
   ]
  },
  {
   "cell_type": "code",
   "execution_count": 74,
   "metadata": {
    "vscode": {
     "languageId": "r"
    }
   },
   "outputs": [
    {
     "name": "stdout",
     "output_type": "stream",
     "text": [
      "theta0 : -17.57909 \n",
      "theta1 : 3.932409"
     ]
    }
   ],
   "source": [
    "# QUESTION 1\n",
    "\n",
    "N <- nrow(cars)\n",
    "A <- matrix(data = c(N, sum(cars$speed), sum(cars$speed), sum(cars$speed^2)), nrow = 2, ncol = 2)\n",
    "B <- matrix(data = c(sum(cars$dist), sum(cars$dist*cars$speed)),nrow = 2, ncol = 1)\n",
    "theta <- solve(A,B)\n",
    "theta0 <- theta[1]\n",
    "theta1 <- theta[2]\n",
    "cat(\"theta0 :\", theta0, \"\\n\")\n",
    "cat(\"theta1 :\", theta1)"
   ]
  },
  {
   "cell_type": "code",
   "execution_count": 75,
   "metadata": {
    "vscode": {
     "languageId": "r"
    }
   },
   "outputs": [
    {
     "data": {
      "text/plain": [
       "\n",
       "Call:\n",
       "lm(formula = dist ~ speed, data = cars)\n",
       "\n",
       "Coefficients:\n",
       "(Intercept)        speed  \n",
       "    -17.579        3.932  \n"
      ]
     },
     "metadata": {},
     "output_type": "display_data"
    }
   ],
   "source": [
    "# QUESTION 2\n",
    "model_cars <- lm(dist ~ speed, data=cars)\n",
    "model_cars"
   ]
  },
  {
   "cell_type": "markdown",
   "metadata": {},
   "source": [
    "Coefficient de détermination linéaire de Pearson R²\n",
    "$$R^2 = 1 - \\frac{\\sum_{i} (y_{i}-\\hat{y_{i}})^2}{\\sum_{i} (y_{i}-\\bar{y})^2}"
   ]
  },
  {
   "cell_type": "code",
   "execution_count": 76,
   "metadata": {
    "vscode": {
     "languageId": "r"
    }
   },
   "outputs": [
    {
     "data": {
      "text/html": [
       "0.651079380758251"
      ],
      "text/latex": [
       "0.651079380758251"
      ],
      "text/markdown": [
       "0.651079380758251"
      ],
      "text/plain": [
       "[1] 0.6510794"
      ]
     },
     "metadata": {},
     "output_type": "display_data"
    }
   ],
   "source": [
    "# QUESTION 3\n",
    "y_hat <- theta0 + cars$speed*theta1\n",
    "r2 <- 1- sum((cars$dist-y_hat)^2)/sum((cars$dist-mean(cars$dist))^2)\n",
    "r2"
   ]
  },
  {
   "cell_type": "code",
   "execution_count": 77,
   "metadata": {
    "vscode": {
     "languageId": "r"
    }
   },
   "outputs": [
    {
     "data": {
      "text/plain": [
       "\n",
       "Call:\n",
       "lm(formula = dist ~ speed, data = cars)\n",
       "\n",
       "Residuals:\n",
       "    Min      1Q  Median      3Q     Max \n",
       "-29.069  -9.525  -2.272   9.215  43.201 \n",
       "\n",
       "Coefficients:\n",
       "            Estimate Std. Error t value Pr(>|t|)    \n",
       "(Intercept) -17.5791     6.7584  -2.601   0.0123 *  \n",
       "speed         3.9324     0.4155   9.464 1.49e-12 ***\n",
       "---\n",
       "Signif. codes:  0 ‘***’ 0.001 ‘**’ 0.01 ‘*’ 0.05 ‘.’ 0.1 ‘ ’ 1\n",
       "\n",
       "Residual standard error: 15.38 on 48 degrees of freedom\n",
       "Multiple R-squared:  0.6511,\tAdjusted R-squared:  0.6438 \n",
       "F-statistic: 89.57 on 1 and 48 DF,  p-value: 1.49e-12\n"
      ]
     },
     "metadata": {},
     "output_type": "display_data"
    }
   ],
   "source": [
    "summary(model_cars)"
   ]
  },
  {
   "cell_type": "code",
   "execution_count": 99,
   "metadata": {
    "vscode": {
     "languageId": "r"
    }
   },
   "outputs": [
    {
     "data": {
      "image/png": "[encoded data removed]",
      "text/plain": [
       "plot without title"
      ]
     },
     "metadata": {
      "image/png": {
       "height": 420,
       "width": 420
      }
     },
     "output_type": "display_data"
    }
   ],
   "source": [
    "# QUESTION 4\n",
    "plot(x = cars$speed, y=cars$dist, col=rainbow(N), )\n",
    "abline(model_cars, lty = 2)"
   ]
  },
  {
   "cell_type": "markdown",
   "metadata": {},
   "source": [
    "## 2. Régression linéaire multiple\n",
    "\n",
    "Le cadre général du modèle de régression linéaire peut être donné par un vecteur $y \\in \\mathbb{R}^n$ contenant les $n$ observations de la *variable à expliquer* et par une matrice $X \\in \\mathbb{R}^{n \\times p}$ contenant les $n$ observations des $p$ *variables explicatives*. Parmi les variables explicatives, une colonne de 1 est souvent ajoutée pour traiter l'ordonnée à l'origine comme les autres variables et unifier les notations. La relation recherchée se formule à l'aide du *vecteur des coefficients* $\\theta \\in \\mathbb{R}^p$,\n",
    "\\begin{equation*}\n",
    "y = X\\theta + \\varepsilon\n",
    "\\end{equation*}\n",
    "où $\\varepsilon \\in \\mathbb{R}^n$ est le vecteur des résidus. Des calculs similaires à ceux vus en cours pour le critère des moindres carrés donnent la formulation matricielle de l'estimateur $\\hat{\\theta}$ lorsque la matrice $X^\\top X$ est inversible,\n",
    "\\begin{equation*}\n",
    "\\hat{\\theta} = (X^\\top X)^{-1} X^\\top y.\n",
    "\\end{equation*}\n",
    "\n",
    "Nous considérons maintenant le jeu de données `swiss`."
   ]
  },
  {
   "cell_type": "code",
   "execution_count": 79,
   "metadata": {
    "vscode": {
     "languageId": "r"
    }
   },
   "outputs": [
    {
     "name": "stdout",
     "output_type": "stream",
     "text": [
      "swiss                 package:datasets                 R Documentation\n",
      "\n",
      "_\bS_\bw_\bi_\bs_\bs _\bF_\be_\br_\bt_\bi_\bl_\bi_\bt_\by _\ba_\bn_\bd _\bS_\bo_\bc_\bi_\bo_\be_\bc_\bo_\bn_\bo_\bm_\bi_\bc _\bI_\bn_\bd_\bi_\bc_\ba_\bt_\bo_\br_\bs (_\b1_\b8_\b8_\b8) _\bD_\ba_\bt_\ba\n",
      "\n",
      "_\bD_\be_\bs_\bc_\br_\bi_\bp_\bt_\bi_\bo_\bn:\n",
      "\n",
      "     Standardized fertility measure and socioeconomic indicators for\n",
      "     each of 47 French-speaking provinces of Switzerland at about 1888.\n",
      "\n",
      "_\bU_\bs_\ba_\bg_\be:\n",
      "\n",
      "     swiss\n",
      "     \n",
      "_\bF_\bo_\br_\bm_\ba_\bt:\n",
      "\n",
      "     A data frame with 47 observations on 6 variables, _each_ of which\n",
      "     is in percent, i.e., in [0, 100].\n",
      "\n",
      "       [,1]  ‘Fertility’         Ig,                                             \n",
      "                                 ‘common standardized fertility measure’         \n",
      "       [,2]  ‘Agriculture’       % of males involved in agriculture              \n",
      "                                 as occupation                                   \n",
      "       [,3]  ‘Examination’       % draftees receiving highest mark               \n",
      "                                 on army examination                             \n",
      "       [,4]  ‘Education’         % education beyond primary school for draftees. \n",
      "       [,5]  ‘Catholic’          % ‘catholic’ (as opposed to ‘protestant’).      \n",
      "       [,6]  ‘Infant.Mortality’  live births who live less than 1                \n",
      "                                 year.                                           \n",
      "      \n",
      "     All variables but ‘Fertility’ give proportions of the population.\n",
      "\n",
      "_\bD_\be_\bt_\ba_\bi_\bl_\bs:\n",
      "\n",
      "     (paraphrasing Mosteller and Tukey):\n",
      "\n",
      "     Switzerland, in 1888, was entering a period known as the\n",
      "     _demographic transition_; i.e., its fertility was beginning to\n",
      "     fall from the high level typical of underdeveloped countries.\n",
      "\n",
      "     The data collected are for 47 French-speaking “provinces” at about\n",
      "     1888.\n",
      "\n",
      "     Here, all variables are scaled to [0, 100], where in the original,\n",
      "     all but ‘Catholic’ were scaled to [0, 1].\n",
      "\n",
      "_\bN_\bo_\bt_\be:\n",
      "\n",
      "     Files for all 182 districts in 1888 and other years have been\n",
      "     available at\n",
      "     <https://oprdata.princeton.edu/archive/pefp/switz.aspx>.\n",
      "\n",
      "     They state that variables ‘Examination’ and ‘Education’ are\n",
      "     averages for 1887, 1888 and 1889.\n",
      "\n",
      "_\bS_\bo_\bu_\br_\bc_\be:\n",
      "\n",
      "     Project “16P5”, pages 549-551 in\n",
      "\n",
      "     Mosteller, F. and Tukey, J. W. (1977) _Data Analysis and\n",
      "     Regression: A Second Course in Statistics_.  Addison-Wesley,\n",
      "     Reading Mass.\n",
      "\n",
      "     indicating their source as “Data used by permission of Franice van\n",
      "     de Walle. Office of Population Research, Princeton University,\n",
      "     1976.  Unpublished data assembled under NICHD contract number No\n",
      "     1-HD-O-2077.”\n",
      "\n",
      "_\bR_\be_\bf_\be_\br_\be_\bn_\bc_\be_\bs:\n",
      "\n",
      "     Becker, R. A., Chambers, J. M. and Wilks, A. R. (1988) _The New S\n",
      "     Language_.  Wadsworth & Brooks/Cole.\n",
      "\n",
      "_\bE_\bx_\ba_\bm_\bp_\bl_\be_\bs:\n",
      "\n",
      "     require(stats); require(graphics)\n",
      "     pairs(swiss, panel = panel.smooth, main = \"swiss data\",\n",
      "           col = 3 + (swiss$Catholic > 50))\n",
      "     summary(lm(Fertility ~ . , data = swiss))\n",
      "     "
     ]
    }
   ],
   "source": [
    "help(swiss)"
   ]
  },
  {
   "cell_type": "markdown",
   "metadata": {},
   "source": [
    "<div class=\"alert alert-block alert-success\">\n",
    "    Utilisez la cellule suivante pour répondre aux questions :\n",
    "    <ol>\n",
    "        <li>Effectuer la régression linéaire multiple modélisant la fertilité en fonction des autres variables à l'aide de la fonction <code>lm()</code>.</li>\n",
    "        <li>Recalculer les coefficients de la régression par la formule matricielle donnée ci-dessus.</li>\n",
    "        <li>Utiliser la fonction <code>step()</code> pour réduire la dimension du modèle en retirant les variables négligeables.</li>\n",
    "    </ol>\n",
    "</div>"
   ]
  },
  {
   "cell_type": "code",
   "execution_count": 83,
   "metadata": {
    "vscode": {
     "languageId": "r"
    }
   },
   "outputs": [
    {
     "data": {
      "text/plain": [
       "\n",
       "Call:\n",
       "lm(formula = Fertility ~ Agriculture + Examination + Education + \n",
       "    Catholic + Infant.Mortality, data = swiss)\n",
       "\n",
       "Coefficients:\n",
       "     (Intercept)       Agriculture       Examination         Education  \n",
       "         66.9152           -0.1721           -0.2580           -0.8709  \n",
       "        Catholic  Infant.Mortality  \n",
       "          0.1041            1.0770  \n"
      ]
     },
     "metadata": {},
     "output_type": "display_data"
    }
   ],
   "source": [
    "# QUESTION 1\n",
    "model_swiss <- lm(formula = Fertility ~ Agriculture + Examination + Education + Catholic + Infant.Mortality, data = swiss)\n",
    "model_swiss"
   ]
  },
  {
   "cell_type": "code",
   "execution_count": 112,
   "metadata": {
    "vscode": {
     "languageId": "r"
    }
   },
   "outputs": [
    {
     "data": {
      "text/html": [
       "<table class=\"dataframe\">\n",
       "<caption>A matrix: 6 × 1 of type dbl</caption>\n",
       "<tbody>\n",
       "\t<tr><td>66.9151817</td></tr>\n",
       "\t<tr><td>-0.1721140</td></tr>\n",
       "\t<tr><td>-0.2580082</td></tr>\n",
       "\t<tr><td>-0.8709401</td></tr>\n",
       "\t<tr><td> 0.1041153</td></tr>\n",
       "\t<tr><td> 1.0770481</td></tr>\n",
       "</tbody>\n",
       "</table>\n"
      ],
      "text/latex": [
       "A matrix: 6 × 1 of type dbl\n",
       "\\begin{tabular}{l}\n",
       "\t 66.9151817\\\\\n",
       "\t -0.1721140\\\\\n",
       "\t -0.2580082\\\\\n",
       "\t -0.8709401\\\\\n",
       "\t  0.1041153\\\\\n",
       "\t  1.0770481\\\\\n",
       "\\end{tabular}\n"
      ],
      "text/markdown": [
       "\n",
       "A matrix: 6 × 1 of type dbl\n",
       "\n",
       "| 66.9151817 |\n",
       "| -0.1721140 |\n",
       "| -0.2580082 |\n",
       "| -0.8709401 |\n",
       "|  0.1041153 |\n",
       "|  1.0770481 |\n",
       "\n"
      ],
      "text/plain": [
       "     [,1]      \n",
       "[1,] 66.9151817\n",
       "[2,] -0.1721140\n",
       "[3,] -0.2580082\n",
       "[4,] -0.8709401\n",
       "[5,]  0.1041153\n",
       "[6,]  1.0770481"
      ]
     },
     "metadata": {},
     "output_type": "display_data"
    }
   ],
   "source": [
    "# QUESTION 2\n",
    "X <- matrix(data = c(rep(1, nrow(swiss)),swiss$Agriculture, swiss$Examination, swiss$Education, swiss$Catholic, swiss$Infant.Mortality), nrow = nrow(swiss), ncol = ncol(swiss))\n",
    "y <- matrix(data = swiss$Fertility, nrow = nrow(swiss), ncol=1)\n",
    "theta_swiss <- solve(t(X) %*% X) %*% t(X) %*% y\n",
    "theta_swiss"
   ]
  },
  {
   "cell_type": "code",
   "execution_count": 114,
   "metadata": {
    "vscode": {
     "languageId": "r"
    }
   },
   "outputs": [
    {
     "name": "stdout",
     "output_type": "stream",
     "text": [
      "Start:  AIC=190.69\n",
      "Fertility ~ Agriculture + Examination + Education + Catholic + \n",
      "    Infant.Mortality\n",
      "\n",
      "                   Df Sum of Sq    RSS    AIC\n",
      "- Examination       1     53.03 2158.1 189.86\n",
      "<none>                          2105.0 190.69\n",
      "- Agriculture       1    307.72 2412.8 195.10\n",
      "- Infant.Mortality  1    408.75 2513.8 197.03\n",
      "- Catholic          1    447.71 2552.8 197.75\n",
      "- Education         1   1162.56 3267.6 209.36\n",
      "\n",
      "Step:  AIC=189.86\n",
      "Fertility ~ Agriculture + Education + Catholic + Infant.Mortality\n",
      "\n",
      "                   Df Sum of Sq    RSS    AIC\n",
      "<none>                          2158.1 189.86\n",
      "- Agriculture       1    264.18 2422.2 193.29\n",
      "- Infant.Mortality  1    409.81 2567.9 196.03\n",
      "- Catholic          1    956.57 3114.6 205.10\n",
      "- Education         1   2249.97 4408.0 221.43\n"
     ]
    },
    {
     "data": {
      "text/plain": [
       "\n",
       "Call:\n",
       "lm(formula = Fertility ~ Agriculture + Education + Catholic + \n",
       "    Infant.Mortality, data = swiss)\n",
       "\n",
       "Coefficients:\n",
       "     (Intercept)       Agriculture         Education          Catholic  \n",
       "         62.1013           -0.1546           -0.9803            0.1247  \n",
       "Infant.Mortality  \n",
       "          1.0784  \n"
      ]
     },
     "metadata": {},
     "output_type": "display_data"
    }
   ],
   "source": [
    "# QUESTION 3\n",
    "step(model_swiss)"
   ]
  },
  {
   "cell_type": "markdown",
   "metadata": {},
   "source": [
    "## 3. Analyse de variance\n",
    "\n",
    "Dans cette dernière partie, nous utiliserons le jeu de données `iris`."
   ]
  },
  {
   "cell_type": "code",
   "execution_count": 81,
   "metadata": {
    "vscode": {
     "languageId": "r"
    }
   },
   "outputs": [
    {
     "name": "stdout",
     "output_type": "stream",
     "text": [
      "iris                 package:datasets                  R Documentation\n",
      "\n",
      "_\bE_\bd_\bg_\ba_\br _\bA_\bn_\bd_\be_\br_\bs_\bo_\bn'_\bs _\bI_\br_\bi_\bs _\bD_\ba_\bt_\ba\n",
      "\n",
      "_\bD_\be_\bs_\bc_\br_\bi_\bp_\bt_\bi_\bo_\bn:\n",
      "\n",
      "     This famous (Fisher's or Anderson's) iris data set gives the\n",
      "     measurements in centimeters of the variables sepal length and\n",
      "     width and petal length and width, respectively, for 50 flowers\n",
      "     from each of 3 species of iris.  The species are _Iris setosa_,\n",
      "     _versicolor_, and _virginica_.\n",
      "\n",
      "_\bU_\bs_\ba_\bg_\be:\n",
      "\n",
      "     iris\n",
      "     iris3\n",
      "     \n",
      "_\bF_\bo_\br_\bm_\ba_\bt:\n",
      "\n",
      "     ‘iris’ is a data frame with 150 cases (rows) and 5 variables\n",
      "     (columns) named ‘Sepal.Length’, ‘Sepal.Width’, ‘Petal.Length’,\n",
      "     ‘Petal.Width’, and ‘Species’.\n",
      "\n",
      "     ‘iris3’ gives the same data arranged as a 3-dimensional array of\n",
      "     size 50 by 4 by 3, as once provided by S-PLUS.  The first\n",
      "     dimension gives the case number within the species subsample, the\n",
      "     second the measurements with names ‘Sepal L.’, ‘Sepal W.’, ‘Petal\n",
      "     L.’, and ‘Petal W.’, and the third the species.\n",
      "\n",
      "_\bS_\bo_\bu_\br_\bc_\be:\n",
      "\n",
      "     Fisher, R. A. (1936) The use of multiple measurements in taxonomic\n",
      "     problems.  _Annals of Eugenics_, *7*, Part II, 179-188.\n",
      "     doi:10.1111/j.1469-1809.1936.tb02137.x\n",
      "     <https://doi.org/10.1111/j.1469-1809.1936.tb02137.x>.\n",
      "\n",
      "     The data were collected by Anderson, Edgar (1935).  The irises of\n",
      "     the Gaspe Peninsula, _Bulletin of the American Iris Society_,\n",
      "     *59*, 2-5.\n",
      "\n",
      "_\bR_\be_\bf_\be_\br_\be_\bn_\bc_\be_\bs:\n",
      "\n",
      "     Becker, R. A., Chambers, J. M. and Wilks, A. R. (1988) _The New S\n",
      "     Language_.  Wadsworth & Brooks/Cole. (has ‘iris3’ as ‘iris’.)\n",
      "\n",
      "_\bS_\be_\be _\bA_\bl_\bs_\bo:\n",
      "\n",
      "     ‘matplot’ some examples of which use ‘iris’.\n",
      "\n",
      "_\bE_\bx_\ba_\bm_\bp_\bl_\be_\bs:\n",
      "\n",
      "     summary(iris)\n",
      "     \n",
      "     ## Fisher's (1936) research question: whether (compound measurements of)\n",
      "     ## Iris versicolor \"differs twice as much from I. setosa as from I. virginica\"\n",
      "     pairs(iris[1:4], col = iris$Species)\n",
      "     legend(0.5, 1, levels(iris$Species), fill = 1:3, bty = \"n\",\n",
      "            horiz = TRUE, xjust = 0.5, yjust = 0, xpd = TRUE)\n",
      "     \n",
      "     ## equivalence of legacy array (iris3) and data.frame (iris) representation\n",
      "     dni3 <- dimnames(iris3)\n",
      "     ii <- data.frame(matrix(aperm(iris3, c(1,3,2)), ncol = 4,\n",
      "                             dimnames = list(NULL, sub(\" L.\",\".Length\",\n",
      "                                             sub(\" W.\",\".Width\", dni3[[2]])))),\n",
      "         Species = gl(3, 50, labels = sub(\"S\", \"s\", sub(\"V\", \"v\", dni3[[3]]))))\n",
      "     stopifnot(all.equal(ii, iris))\n",
      "     "
     ]
    }
   ],
   "source": [
    "help(iris)"
   ]
  },
  {
   "cell_type": "markdown",
   "metadata": {},
   "source": [
    "<div class=\"alert alert-block alert-success\">\n",
    "    Utilisez la cellule suivante pour répondre aux questions :\n",
    "    <ol>\n",
    "        <li>Représenter les boxplots de chacune des 4 variables en fonction des modalités de la variable <code>Species</code>.<br>\n",
    "            <center><img src=\"img/iris.png\"></center>\n",
    "        </li>\n",
    "        <li>On souhaite appliquer une ANOVA sur chacun des variable quantitative de ce jeux de donnée. Que cherche-t-on à tester ? </li>\n",
    "        <li>Le bon fonctionnement de l'ANOVA repose sur des hypothèses, quelles sont t'elle ? Mettez en place un tester pour vérifier si elles semble raisonnable sur ce jeux de données. </li>\n",
    "        <li>Pour chaque variable quantitative du jeu de données <code>iris</code>, utiliser la fonction <code>aov()</code> puis <code>print()</code> et <code>summary()</code> sur le résultat pour appliquer l'ANOVA.</li>\n",
    "    </ol>\n",
    "</div>"
   ]
  },
  {
   "cell_type": "code",
   "execution_count": 135,
   "metadata": {
    "vscode": {
     "languageId": "r"
    }
   },
   "outputs": [
    {
     "data": {
      "image/png": "[encoded data removed]",
      "text/plain": [
       "plot without title"
      ]
     },
     "metadata": {
      "image/png": {
       "height": 420,
       "width": 420
      }
     },
     "output_type": "display_data"
    }
   ],
   "source": [
    "# QUESTION 1\n",
    "par(mfrow = c(2,2))\n",
    "\n",
    "boxplot(Sepal.Length ~ Species, data = iris, col=c('magenta','orange','cyan'))\n",
    "boxplot(Sepal.Width ~ Species, data = iris, col=c('magenta','orange','cyan'))\n",
    "boxplot(Petal.Length ~ Species, data = iris, col=c('magenta','orange','cyan'))\n",
    "boxplot(Petal.Width ~ Species, data = iris, col=c('magenta','orange','cyan'))\n"
   ]
  },
  {
   "cell_type": "code",
   "execution_count": 137,
   "metadata": {
    "vscode": {
     "languageId": "r"
    }
   },
   "outputs": [
    {
     "name": "stdout",
     "output_type": "stream",
     "text": [
      "On veut tester si les 3 espèces d'iris ont les mêmes moyennes pour chaque variable quantitative"
     ]
    }
   ],
   "source": [
    "# QUESTION 2\n",
    "cat(\"On veut tester si les 3 espèces d'iris ont les mêmes moyennes pour chaque variable quantitative\")"
   ]
  },
  {
   "cell_type": "code",
   "execution_count": 139,
   "metadata": {
    "vscode": {
     "languageId": "r"
    }
   },
   "outputs": [
    {
     "name": "stdout",
     "output_type": "stream",
     "text": [
      "Une ANOVA requiert l'indépendance entre les variables aléatoires et que ces variables aléatoires soient suivent des lois normales de même variance"
     ]
    }
   ],
   "source": [
    "# QUESTION 3\n",
    "cat(\"Une ANOVA requiert l'indépendance entre les variables aléatoires et que ces variables aléatoires soient suivent des lois normales de même variance\")"
   ]
  },
  {
   "cell_type": "code",
   "execution_count": 149,
   "metadata": {
    "vscode": {
     "languageId": "r"
    }
   },
   "outputs": [
    {
     "name": "stdout",
     "output_type": "stream",
     "text": [
      "ANOVA Sepal.Length\n"
     ]
    },
    {
     "name": "stdout",
     "output_type": "stream",
     "text": [
      "Call:\n",
      "   aov(formula = Sepal.Length ~ Species, data = iris)\n",
      "\n",
      "Terms:\n",
      "                 Species Residuals\n",
      "Sum of Squares  63.21213  38.95620\n",
      "Deg. of Freedom        2       147\n",
      "\n",
      "Residual standard error: 0.5147894\n",
      "Estimated effects may be unbalanced\n"
     ]
    },
    {
     "data": {
      "text/plain": [
       "             Df Sum Sq Mean Sq F value Pr(>F)    \n",
       "Species       2  63.21  31.606   119.3 <2e-16 ***\n",
       "Residuals   147  38.96   0.265                   \n",
       "---\n",
       "Signif. codes:  0 ‘***’ 0.001 ‘**’ 0.01 ‘*’ 0.05 ‘.’ 0.1 ‘ ’ 1"
      ]
     },
     "metadata": {},
     "output_type": "display_data"
    },
    {
     "name": "stdout",
     "output_type": "stream",
     "text": [
      "ANOVA Sepal.Width\n",
      "Call:\n",
      "   aov(formula = Sepal.Width ~ Species, data = iris)\n",
      "\n",
      "Terms:\n",
      "                 Species Residuals\n",
      "Sum of Squares  11.34493  16.96200\n",
      "Deg. of Freedom        2       147\n",
      "\n",
      "Residual standard error: 0.3396877\n",
      "Estimated effects may be unbalanced\n"
     ]
    },
    {
     "data": {
      "text/plain": [
       "             Df Sum Sq Mean Sq F value Pr(>F)    \n",
       "Species       2  11.35   5.672   49.16 <2e-16 ***\n",
       "Residuals   147  16.96   0.115                   \n",
       "---\n",
       "Signif. codes:  0 ‘***’ 0.001 ‘**’ 0.01 ‘*’ 0.05 ‘.’ 0.1 ‘ ’ 1"
      ]
     },
     "metadata": {},
     "output_type": "display_data"
    },
    {
     "name": "stdout",
     "output_type": "stream",
     "text": [
      "ANOVA Petal.Length\n",
      "Call:\n",
      "   aov(formula = Petal.Length ~ Species, data = iris)\n",
      "\n",
      "Terms:\n",
      "                 Species Residuals\n",
      "Sum of Squares  437.1028   27.2226\n",
      "Deg. of Freedom        2       147\n",
      "\n",
      "Residual standard error: 0.4303345\n",
      "Estimated effects may be unbalanced\n"
     ]
    },
    {
     "data": {
      "text/plain": [
       "             Df Sum Sq Mean Sq F value Pr(>F)    \n",
       "Species       2  437.1  218.55    1180 <2e-16 ***\n",
       "Residuals   147   27.2    0.19                   \n",
       "---\n",
       "Signif. codes:  0 ‘***’ 0.001 ‘**’ 0.01 ‘*’ 0.05 ‘.’ 0.1 ‘ ’ 1"
      ]
     },
     "metadata": {},
     "output_type": "display_data"
    },
    {
     "name": "stdout",
     "output_type": "stream",
     "text": [
      "ANOVA Petal.Width\n",
      "Call:\n",
      "   aov(formula = Petal.Width ~ Species, data = iris)\n",
      "\n",
      "Terms:\n",
      "                 Species Residuals\n",
      "Sum of Squares  80.41333   6.15660\n",
      "Deg. of Freedom        2       147\n",
      "\n",
      "Residual standard error: 0.20465\n",
      "Estimated effects may be unbalanced\n"
     ]
    },
    {
     "data": {
      "text/plain": [
       "             Df Sum Sq Mean Sq F value Pr(>F)    \n",
       "Species       2  80.41   40.21     960 <2e-16 ***\n",
       "Residuals   147   6.16    0.04                   \n",
       "---\n",
       "Signif. codes:  0 ‘***’ 0.001 ‘**’ 0.01 ‘*’ 0.05 ‘.’ 0.1 ‘ ’ 1"
      ]
     },
     "metadata": {},
     "output_type": "display_data"
    }
   ],
   "source": [
    "# QUESTION 4\n",
    "cat(\"ANOVA Sepal.Length\\n\")\n",
    "aov_sepal_length = aov(Sepal.Length ~Species, iris)\n",
    "print(aov_sepal_length)\n",
    "summary(aov_sepal_length)\n",
    "\n",
    "cat(\"ANOVA Sepal.Width\\n\")\n",
    "aov_sepal_width = aov(Sepal.Width ~Species, iris)\n",
    "print(aov_sepal_width)\n",
    "summary(aov_sepal_width)\n",
    "\n",
    "cat(\"ANOVA Petal.Length\\n\")\n",
    "aov_petal_length = aov(Petal.Length ~Species, iris)\n",
    "print(aov_petal_length)\n",
    "summary(aov_petal_length)\n",
    "\n",
    "cat(\"ANOVA Petal.Width\\n\")\n",
    "aov_petal_width = aov(Petal.Width ~Species, iris)\n",
    "print(aov_petal_width)\n",
    "summary(aov_petal_width)"
   ]
  }
 ],
 "metadata": {
  "kernelspec": {
   "display_name": "R",
   "language": "R",
   "name": "ir"
  },
  "language_info": {
   "codemirror_mode": "r",
   "file_extension": ".r",
   "mimetype": "text/x-r-source",
   "name": "R",
   "pygments_lexer": "r",
   "version": "4.5.1"
  }
 },
 "nbformat": 4,
 "nbformat_minor": 4
}
