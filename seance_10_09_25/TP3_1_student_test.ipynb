{
 "cells": [
  {
   "cell_type": "markdown",
   "metadata": {},
   "source": [
    "# TP 3.1 : Test de Student"
   ]
  },
  {
   "cell_type": "markdown",
   "metadata": {},
   "source": [
    "Nous nous intéressons ici au test de Student de comparaison des moyennes sur 2 échantillons indépendants simulés selon des lois normales de même variance $\\sigma^2 > 0$,\n",
    "\\begin{equation*}\n",
    "X_1,\\dots,X_p \\sim \\mathcal{N}(m_X,\\sigma^2) \\quad \\text{et} \\quad Y_1,\\dots,Y_q \\sim \\mathcal{N}(m_Y,\\sigma^2).\n",
    "\\end{equation*}\n",
    "Pour expérimenter, nous prendrons $p=q=10$, $m_X=m_Y=0$ et $\\sigma^2=1$."
   ]
  },
  {
   "cell_type": "code",
   "execution_count": 82,
   "metadata": {
    "vscode": {
     "languageId": "r"
    }
   },
   "outputs": [],
   "source": [
    "# Génération des échantillons\n",
    "x <- rnorm(10)\n",
    "y <- rnorm(10)"
   ]
  },
  {
   "cell_type": "markdown",
   "metadata": {},
   "source": [
    "Le test bilatéral de comparaison des moyennes sur ces 2 échantillons se fait en utilisant la fonction `t.test()` avec l'option `var.equal=TRUE`."
   ]
  },
  {
   "cell_type": "code",
   "execution_count": 83,
   "metadata": {
    "vscode": {
     "languageId": "r"
    }
   },
   "outputs": [
    {
     "data": {
      "text/plain": [
       "\n",
       "\tTwo Sample t-test\n",
       "\n",
       "data:  x and y\n",
       "t = 1.6508, df = 18, p-value = 0.1161\n",
       "alternative hypothesis: true difference in means is not equal to 0\n",
       "95 percent confidence interval:\n",
       " -0.153818  1.282204\n",
       "sample estimates:\n",
       " mean of x  mean of y \n",
       " 0.1190167 -0.4451765 \n"
      ]
     },
     "metadata": {},
     "output_type": "display_data"
    }
   ],
   "source": [
    "# Test bilatéral de comparaison des moyennes\n",
    "resultat_test <- t.test(x, y, var.equal=TRUE)\n",
    "\n",
    "# L'objet obtenu contient beaucoup d'informations\n",
    "resultat_test"
   ]
  },
  {
   "cell_type": "markdown",
   "metadata": {},
   "source": [
    "<div class=\"alert alert-block alert-success\">\n",
    "    Utilisez la cellule suivante pour répondre aux questions :\n",
    "    <ol>\n",
    "        <li>Donner l'hypothèse nulle $H_0$ et l'hypothèse alternative $H_1$ de ce test.</li>\n",
    "        <li>Pourquoi faut-il supposer que les deux échantillons aient la même variance ? En particulier, quelle est la loi de la variable\n",
    "            \\begin{equation*}\n",
    "                (p+q-2)\\frac{\\tilde{\\sigma}^2_{p,q}}{\\sigma^2} \\quad \\text{où} \\quad \\tilde{\\sigma}^2_{p,q} = \\frac{1}{p+q-2}\\sum_{k=1}^p\\left( X_k - \\bar{X}_p \\right)^2 + \\frac{1}{p+q-2}\\sum_{k=1}^q\\left( Y_k - \\bar{Y}_q \\right)^2\\ ?\n",
    "            \\end{equation*}\n",
    "        </li>\n",
    "        <li>En déduire la loi de la statistique de test\n",
    "            \\begin{equation*}\n",
    "                T = \\sqrt{\\frac{pq}{p+q}} \\times \\frac{\\bar{X}_p - \\bar{Y}_q}{\\sqrt{\\tilde{\\sigma}^2_{p,q}}}.\n",
    "            \\end{equation*}\n",
    "        </li>\n",
    "        <li>Vérifier le calcul de la statistique de test donné dans <code>resultat_test</code>.</li>\n",
    "        <li>Quelle est la p-valeur du test <code>resultat_test</code> ? Pour un niveau de 95%, doit-on accepter ou rejeter $H_0$ ? Est-ce cohérent avec notre simulation initiale ?</li>\n",
    "        <li>Recalculer cette p-valeur à partir d'une loi de Student à 18 degrés de liberté.</li>\n",
    "    </ol>\n",
    "</div>"
   ]
  },
  {
   "cell_type": "markdown",
   "metadata": {},
   "source": [
    "1. Hypothèse nulle $H_{0}$ : $\\overline{X_{p}} - \\overline{Y_{q}} = 0$\n",
    "\n",
    "Hypothèse alternative $H_{1}$ : $\\overline{X_{p}} - \\overline{Y_{q}} \\neq 0$\n",
    "\n",
    "2. Les échantillons doivent avoir la même variance sinon cela fait trop d'inconnues dans le problème pour tester uniquement les moyennes. La variable $(p+q-2)\\frac{\\tilde{\\sigma}^2_{p,q}}{\\sigma^2} \\quad$ où $\\quad \\tilde{\\sigma}^2_{p,q} = \\frac{1}{p+q-2}\\sum_{k=1}^p\\left( X_k - \\bar{X}_p \\right)^2 + \\frac{1}{p+q-2}\\sum_{k=1}^q\\left( Y_k - \\bar{Y}_q \\right)^2$ suit la loi $\\chi^2(p+q-2)$.\n",
    "\n",
    "3. $T = \\sqrt{\\frac{pq}{p+q}} \\times \\frac{\\bar{X}_p - \\bar{Y}_q}{\\sqrt{\\tilde{\\sigma}^2_{p,q}}}$ suit la loi de Student $\\tau(p+q-2)$\n",
    "\n",
    "4. "
   ]
  },
  {
   "cell_type": "code",
   "execution_count": 84,
   "metadata": {
    "vscode": {
     "languageId": "r"
    }
   },
   "outputs": [
    {
     "data": {
      "text/html": [
       "1.65084600690639"
      ],
      "text/latex": [
       "1.65084600690639"
      ],
      "text/markdown": [
       "1.65084600690639"
      ],
      "text/plain": [
       "[1] 1.650846"
      ]
     },
     "metadata": {},
     "output_type": "display_data"
    }
   ],
   "source": [
    "p <- 10\n",
    "q <- 10\n",
    "sigma2 <- (1/(p+q-2))*(sum((x-mean(x))**2) + sum((y-mean(y))**2))\n",
    "T <- sqrt((p*q/(p+q)))*(mean(x)-mean(y))/sqrt(sigma2)\n",
    "T"
   ]
  },
  {
   "cell_type": "markdown",
   "metadata": {},
   "source": [
    "5. La p-valeur du test est p-value = 0.4201 > 0.05 donc il faut ne pas rejeter $H_{0}$\n",
    "\n",
    "6. Calcul de la p-value à partir de la loi de Student :"
   ]
  },
  {
   "cell_type": "code",
   "execution_count": 85,
   "metadata": {
    "vscode": {
     "languageId": "r"
    }
   },
   "outputs": [
    {
     "data": {
      "text/html": [
       "0.116109176902951"
      ],
      "text/latex": [
       "0.116109176902951"
      ],
      "text/markdown": [
       "0.116109176902951"
      ],
      "text/plain": [
       "[1] 0.1161092"
      ]
     },
     "metadata": {},
     "output_type": "display_data"
    }
   ],
   "source": [
    "p_value <- 2*pt(-abs(T), df=p+q-2)\n",
    "p_value"
   ]
  },
  {
   "cell_type": "markdown",
   "metadata": {},
   "source": [
    "La p-value doit être > à alpha pour que le test ait du sens : il faut que les \"valeurs extrêmes\" de la statistique de test puissent être observées (sinon on aurait un test qui conclut toujours au même résultat)"
   ]
  },
  {
   "cell_type": "markdown",
   "metadata": {},
   "source": [
    "Pour illustrer la notion de niveau d'un test, nous simulons 1000 paires d'échantillons de taille 10 comme ci-dessus et nous les stockons dans deux matrices `X` et `Y`."
   ]
  },
  {
   "cell_type": "code",
   "execution_count": 86,
   "metadata": {
    "vscode": {
     "languageId": "r"
    }
   },
   "outputs": [],
   "source": [
    "X <- matrix(rnorm(1000*10), nrow=1000)\n",
    "Y <- matrix(rnorm(1000*10), nrow=1000)"
   ]
  },
  {
   "cell_type": "markdown",
   "metadata": {},
   "source": [
    "<div class=\"alert alert-block alert-success\">\n",
    "    Utilisez la cellule suivante pour répondre aux questions :\n",
    "    <ol>\n",
    "        <li>Effectuer un test de comparaison des moyennes pour chaque paire d'échantillons et stocker la p-valeur du résultat dans un vecteur <code>p_valeur</code> de taille 1000.</li>\n",
    "        <li>Combien de p-valeurs inférieures à 0.05 obtenez-vous ? Combien devriez-vous théoriquement en obtenir en moyenne ?</li>\n",
    "        <li>Repérer l'indice du test qui donne la plus petite p-valeur (il peut être utile d'utiliser la fonction <code>which.min()</code>). Pour un niveau de 95%, doit-on accepter ou rejeter $H_0$ pour ce test ?</li>\n",
    "        <li>Représenter graphiquement les données correspondant à ce test :\n",
    "            <ul>\n",
    "                <li>afficher la densité de la loi normale centrée réduite entre -3 et 3 avec <code>plot(dnorm, -3, 3, type=\"l\")</code>,</li>\n",
    "                <li>afficher les deux échantillons avec deux couleurs différentes grâce à la fonction <code>rug()</code>,</li>\n",
    "                <li>afficher les moyennes des deux échantillons (fonction <code>rug()</code>),</li>\n",
    "                <li>ajouter une légende.</li>\n",
    "            </ul>\n",
    "            <center><img src=\"img/student.png\"></center>\n",
    "        </li>\n",
    "    </ol>\n",
    "</div>"
   ]
  },
  {
   "cell_type": "code",
   "execution_count": 87,
   "metadata": {
    "vscode": {
     "languageId": "r"
    }
   },
   "outputs": [],
   "source": [
    "# QUESTION 1\n",
    "sigma2_1000 <- (1/(p+q-2))*(apply((X-apply(X,1,mean))**2, 1,sum)+apply((Y-apply(Y,1,mean))**2, 1,sum))\n",
    "T_1000 <- sqrt((p*q/(p+q)))*(apply(X,1,mean)-apply(Y,1,mean))/sqrt(sigma2_1000)\n",
    "\n",
    "# t.test(X[50,], Y[50,])\n",
    "# T_1000[50]\n",
    "\n",
    "p_valeur <- 2*pt(-abs(T_1000), df=p+q-2)\n",
    "\n",
    "# TODO : fix p-value"
   ]
  },
  {
   "cell_type": "code",
   "execution_count": 88,
   "metadata": {
    "vscode": {
     "languageId": "r"
    }
   },
   "outputs": [
    {
     "data": {
      "text/html": [
       "49"
      ],
      "text/latex": [
       "49"
      ],
      "text/markdown": [
       "49"
      ],
      "text/plain": [
       "[1] 49"
      ]
     },
     "metadata": {},
     "output_type": "display_data"
    },
    {
     "name": "stdout",
     "output_type": "stream",
     "text": [
      "En moyenne, on devrait avoir 5% des 1000 échantillons -> 50"
     ]
    }
   ],
   "source": [
    "# QUESTION 2\n",
    "\n",
    "sum(p_valeur<0.05)\n",
    "cat(\"En moyenne, on devrait avoir 5% des 1000 échantillons -> 50\")"
   ]
  },
  {
   "cell_type": "code",
   "execution_count": 94,
   "metadata": {
    "vscode": {
     "languageId": "r"
    }
   },
   "outputs": [
    {
     "data": {
      "text/html": [
       "7.03505266395312e-05"
      ],
      "text/latex": [
       "7.03505266395312e-05"
      ],
      "text/markdown": [
       "7.03505266395312e-05"
      ],
      "text/plain": [
       "[1] 7.035053e-05"
      ]
     },
     "metadata": {},
     "output_type": "display_data"
    },
    {
     "name": "stdout",
     "output_type": "stream",
     "text": [
      "On rejette ce test pour un niveau de 95% car sa p-value est plus petite que 0.05"
     ]
    }
   ],
   "source": [
    "# QUESTION 3 \n",
    "\n",
    "test_min_p_value <- which.min(p_valeur)\n",
    "p_valeur[test_min_p_value]\n",
    "\n",
    "cat(\"On rejette ce test pour un niveau de 95% car sa p-value est plus petite que 0.05\")"
   ]
  },
  {
   "cell_type": "code",
   "execution_count": 103,
   "metadata": {
    "vscode": {
     "languageId": "r"
    }
   },
   "outputs": [
    {
     "data": {
      "image/png": "[encoded data removed]",
      "text/plain": [
       "plot without title"
      ]
     },
     "metadata": {
      "image/png": {
       "height": 420,
       "width": 420
      }
     },
     "output_type": "display_data"
    }
   ],
   "source": [
    "# QUESTION 4\n",
    "\n",
    "plot(dnorm, -3, 3, type=\"l\")\n",
    "rug(X[test_min_p_value,], col = 'light blue')\n",
    "rug(Y[test_min_p_value,], col = 'red')\n",
    "rug(mean(X[test_min_p_value,]), col = 'light blue', ticksize = 0.06, lty=2)\n",
    "rug(mean(Y[test_min_p_value,]), col = 'red', ticksize = 0.06, lty=2)"
   ]
  }
 ],
 "metadata": {
  "kernelspec": {
   "display_name": "R",
   "language": "R",
   "name": "ir"
  },
  "language_info": {
   "codemirror_mode": "r",
   "file_extension": ".r",
   "mimetype": "text/x-r-source",
   "name": "R",
   "pygments_lexer": "r",
   "version": "4.5.1"
  }
 },
 "nbformat": 4,
 "nbformat_minor": 4
}
